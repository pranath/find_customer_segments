{
 "cells": [
  {
   "cell_type": "markdown",
   "metadata": {},
   "source": [
    "# Identifying Customer Segments\n",
    "\n",
    "In this project, I will apply unsupervised learning techniques to identify segments of the population that form the core customer base for a mail-order sales company in Germany. I have two datasets: one with demographic information about the people of Germany, and one with that same information for customers of the mail-order sales company. I will look at relationships between demographics features, organize the population into clusters, and see how prevalent customers are in each of the segments obtained. These segments could then be used to direct marketing campaigns towards audiences that will have the highest expected rate of returns. \n",
    "\n",
    "The data that I will use for this project has been provided to me by _[Bertelsmann Arvato Analytics](https://www.arvato.com/in-en/solutions/big-data-analytics.html)_."
   ]
  },
  {
   "cell_type": "code",
   "execution_count": 1,
   "metadata": {},
   "outputs": [],
   "source": [
    "# Import libraries here; add more as necessary\n",
    "import numpy as np\n",
    "import pandas as pd\n",
    "import matplotlib.pyplot as plt\n",
    "import seaborn as sns\n",
    "import re\n",
    "import time\n",
    "from sklearn.preprocessing import OneHotEncoder\n",
    "from sklearn.preprocessing import Imputer\n",
    "from sklearn.preprocessing import StandardScaler\n",
    "from sklearn.decomposition import PCA\n",
    "from sklearn.cluster import KMeans\n",
    "from collections import Counter\n",
    "\n",
    "# Magic word for producing visualizations in notebook\n",
    "%matplotlib inline"
   ]
  },
  {
   "cell_type": "markdown",
   "metadata": {},
   "source": [
    "### Step 0: Load the Data\n",
    "\n",
    "There are four files associated with this project (not including this one):\n",
    "\n",
    "- `Udacity_AZDIAS_Subset.csv`: Demographics data for the general population of Germany; 891211 persons (rows) x 85 features (columns).\n",
    "- `Udacity_CUSTOMERS_Subset.csv`: Demographics data for customers of a mail-order company; 191652 persons (rows) x 85 features (columns).\n",
    "- `Data_Dictionary.md`: Detailed information file about the features in the provided datasets.\n",
    "- `AZDIAS_Feature_Summary.csv`: Summary of feature attributes for demographics data; 85 features (rows) x 4 columns\n",
    "\n",
    "Each row of the demographics files represents a single person, but also includes information outside of individuals, including information about their household, building, and neighborhood. I will use this information to cluster the general population into groups with similar demographic properties. Then, I will see how the people in the customers dataset fit into those created clusters. The hope here is that certain clusters are over-represented in the customers data, as compared to the general population; those over-represented clusters will be assumed to be part of the core userbase. This information can then be used for further applications, such as targeting for a marketing campaign."
   ]
  },
  {
   "cell_type": "code",
   "execution_count": 2,
   "metadata": {},
   "outputs": [],
   "source": [
    "# Load in the general demographics data.\n",
    "azdias = pd.read_csv('Udacity_AZDIAS_Subset.csv', delimiter=';')\n",
    "\n",
    "# Load in the feature summary file.\n",
    "feat_info = pd.read_csv('AZDIAS_Feature_Summary.csv', delimiter=';')"
   ]
  },
  {
   "cell_type": "code",
   "execution_count": 3,
   "metadata": {},
   "outputs": [
    {
     "name": "stdout",
     "output_type": "stream",
     "text": [
      "<class 'pandas.core.frame.DataFrame'>\n",
      "RangeIndex: 891221 entries, 0 to 891220\n",
      "Data columns (total 85 columns):\n",
      "AGER_TYP                 891221 non-null int64\n",
      "ALTERSKATEGORIE_GROB     891221 non-null int64\n",
      "ANREDE_KZ                891221 non-null int64\n",
      "CJT_GESAMTTYP            886367 non-null float64\n",
      "FINANZ_MINIMALIST        891221 non-null int64\n",
      "FINANZ_SPARER            891221 non-null int64\n",
      "FINANZ_VORSORGER         891221 non-null int64\n",
      "FINANZ_ANLEGER           891221 non-null int64\n",
      "FINANZ_UNAUFFAELLIGER    891221 non-null int64\n",
      "FINANZ_HAUSBAUER         891221 non-null int64\n",
      "FINANZTYP                891221 non-null int64\n",
      "GEBURTSJAHR              891221 non-null int64\n",
      "GFK_URLAUBERTYP          886367 non-null float64\n",
      "GREEN_AVANTGARDE         891221 non-null int64\n",
      "HEALTH_TYP               891221 non-null int64\n",
      "LP_LEBENSPHASE_FEIN      886367 non-null float64\n",
      "LP_LEBENSPHASE_GROB      886367 non-null float64\n",
      "LP_FAMILIE_FEIN          886367 non-null float64\n",
      "LP_FAMILIE_GROB          886367 non-null float64\n",
      "LP_STATUS_FEIN           886367 non-null float64\n",
      "LP_STATUS_GROB           886367 non-null float64\n",
      "NATIONALITAET_KZ         891221 non-null int64\n",
      "PRAEGENDE_JUGENDJAHRE    891221 non-null int64\n",
      "RETOURTYP_BK_S           886367 non-null float64\n",
      "SEMIO_SOZ                891221 non-null int64\n",
      "SEMIO_FAM                891221 non-null int64\n",
      "SEMIO_REL                891221 non-null int64\n",
      "SEMIO_MAT                891221 non-null int64\n",
      "SEMIO_VERT               891221 non-null int64\n",
      "SEMIO_LUST               891221 non-null int64\n",
      "SEMIO_ERL                891221 non-null int64\n",
      "SEMIO_KULT               891221 non-null int64\n",
      "SEMIO_RAT                891221 non-null int64\n",
      "SEMIO_KRIT               891221 non-null int64\n",
      "SEMIO_DOM                891221 non-null int64\n",
      "SEMIO_KAEM               891221 non-null int64\n",
      "SEMIO_PFLICHT            891221 non-null int64\n",
      "SEMIO_TRADV              891221 non-null int64\n",
      "SHOPPER_TYP              891221 non-null int64\n",
      "SOHO_KZ                  817722 non-null float64\n",
      "TITEL_KZ                 817722 non-null float64\n",
      "VERS_TYP                 891221 non-null int64\n",
      "ZABEOTYP                 891221 non-null int64\n",
      "ALTER_HH                 817722 non-null float64\n",
      "ANZ_PERSONEN             817722 non-null float64\n",
      "ANZ_TITEL                817722 non-null float64\n",
      "HH_EINKOMMEN_SCORE       872873 non-null float64\n",
      "KK_KUNDENTYP             306609 non-null float64\n",
      "W_KEIT_KIND_HH           783619 non-null float64\n",
      "WOHNDAUER_2008           817722 non-null float64\n",
      "ANZ_HAUSHALTE_AKTIV      798073 non-null float64\n",
      "ANZ_HH_TITEL             794213 non-null float64\n",
      "GEBAEUDETYP              798073 non-null float64\n",
      "KONSUMNAEHE              817252 non-null float64\n",
      "MIN_GEBAEUDEJAHR         798073 non-null float64\n",
      "OST_WEST_KZ              798073 non-null object\n",
      "WOHNLAGE                 798073 non-null float64\n",
      "CAMEO_DEUG_2015          792242 non-null object\n",
      "CAMEO_DEU_2015           792242 non-null object\n",
      "CAMEO_INTL_2015          792242 non-null object\n",
      "KBA05_ANTG1              757897 non-null float64\n",
      "KBA05_ANTG2              757897 non-null float64\n",
      "KBA05_ANTG3              757897 non-null float64\n",
      "KBA05_ANTG4              757897 non-null float64\n",
      "KBA05_BAUMAX             757897 non-null float64\n",
      "KBA05_GBZ                757897 non-null float64\n",
      "BALLRAUM                 797481 non-null float64\n",
      "EWDICHTE                 797481 non-null float64\n",
      "INNENSTADT               797481 non-null float64\n",
      "GEBAEUDETYP_RASTER       798066 non-null float64\n",
      "KKK                      770025 non-null float64\n",
      "MOBI_REGIO               757897 non-null float64\n",
      "ONLINE_AFFINITAET        886367 non-null float64\n",
      "REGIOTYP                 770025 non-null float64\n",
      "KBA13_ANZAHL_PKW         785421 non-null float64\n",
      "PLZ8_ANTG1               774706 non-null float64\n",
      "PLZ8_ANTG2               774706 non-null float64\n",
      "PLZ8_ANTG3               774706 non-null float64\n",
      "PLZ8_ANTG4               774706 non-null float64\n",
      "PLZ8_BAUMAX              774706 non-null float64\n",
      "PLZ8_HHZ                 774706 non-null float64\n",
      "PLZ8_GBZ                 774706 non-null float64\n",
      "ARBEIT                   794005 non-null float64\n",
      "ORTSGR_KLS9              794005 non-null float64\n",
      "RELAT_AB                 794005 non-null float64\n",
      "dtypes: float64(49), int64(32), object(4)\n",
      "memory usage: 578.0+ MB\n"
     ]
    }
   ],
   "source": [
    "# Check the structure of the data after it's loaded (e.g. print the number of\n",
    "# rows and columns, print the first few rows).\n",
    "\n",
    "# Check demographics data\n",
    "azdias.info()"
   ]
  },
  {
   "cell_type": "code",
   "execution_count": 4,
   "metadata": {},
   "outputs": [
    {
     "data": {
      "text/html": [
       "<div>\n",
       "<style>\n",
       "    .dataframe thead tr:only-child th {\n",
       "        text-align: right;\n",
       "    }\n",
       "\n",
       "    .dataframe thead th {\n",
       "        text-align: left;\n",
       "    }\n",
       "\n",
       "    .dataframe tbody tr th {\n",
       "        vertical-align: top;\n",
       "    }\n",
       "</style>\n",
       "<table border=\"1\" class=\"dataframe\">\n",
       "  <thead>\n",
       "    <tr style=\"text-align: right;\">\n",
       "      <th></th>\n",
       "      <th>AGER_TYP</th>\n",
       "      <th>ALTERSKATEGORIE_GROB</th>\n",
       "      <th>ANREDE_KZ</th>\n",
       "      <th>CJT_GESAMTTYP</th>\n",
       "      <th>FINANZ_MINIMALIST</th>\n",
       "      <th>FINANZ_SPARER</th>\n",
       "      <th>FINANZ_VORSORGER</th>\n",
       "      <th>FINANZ_ANLEGER</th>\n",
       "      <th>FINANZ_UNAUFFAELLIGER</th>\n",
       "      <th>FINANZ_HAUSBAUER</th>\n",
       "      <th>...</th>\n",
       "      <th>PLZ8_ANTG1</th>\n",
       "      <th>PLZ8_ANTG2</th>\n",
       "      <th>PLZ8_ANTG3</th>\n",
       "      <th>PLZ8_ANTG4</th>\n",
       "      <th>PLZ8_BAUMAX</th>\n",
       "      <th>PLZ8_HHZ</th>\n",
       "      <th>PLZ8_GBZ</th>\n",
       "      <th>ARBEIT</th>\n",
       "      <th>ORTSGR_KLS9</th>\n",
       "      <th>RELAT_AB</th>\n",
       "    </tr>\n",
       "  </thead>\n",
       "  <tbody>\n",
       "    <tr>\n",
       "      <th>count</th>\n",
       "      <td>891221.000000</td>\n",
       "      <td>891221.000000</td>\n",
       "      <td>891221.000000</td>\n",
       "      <td>886367.000000</td>\n",
       "      <td>891221.000000</td>\n",
       "      <td>891221.000000</td>\n",
       "      <td>891221.000000</td>\n",
       "      <td>891221.000000</td>\n",
       "      <td>891221.000000</td>\n",
       "      <td>891221.000000</td>\n",
       "      <td>...</td>\n",
       "      <td>774706.000000</td>\n",
       "      <td>774706.000000</td>\n",
       "      <td>774706.000000</td>\n",
       "      <td>774706.000000</td>\n",
       "      <td>774706.000000</td>\n",
       "      <td>774706.000000</td>\n",
       "      <td>774706.000000</td>\n",
       "      <td>794005.000000</td>\n",
       "      <td>794005.000000</td>\n",
       "      <td>794005.00000</td>\n",
       "    </tr>\n",
       "    <tr>\n",
       "      <th>mean</th>\n",
       "      <td>-0.358435</td>\n",
       "      <td>2.777398</td>\n",
       "      <td>1.522098</td>\n",
       "      <td>3.632838</td>\n",
       "      <td>3.074528</td>\n",
       "      <td>2.821039</td>\n",
       "      <td>3.401106</td>\n",
       "      <td>3.033328</td>\n",
       "      <td>2.874167</td>\n",
       "      <td>3.075121</td>\n",
       "      <td>...</td>\n",
       "      <td>2.253330</td>\n",
       "      <td>2.801858</td>\n",
       "      <td>1.595426</td>\n",
       "      <td>0.699166</td>\n",
       "      <td>1.943913</td>\n",
       "      <td>3.612821</td>\n",
       "      <td>3.381087</td>\n",
       "      <td>3.167854</td>\n",
       "      <td>5.293002</td>\n",
       "      <td>3.07222</td>\n",
       "    </tr>\n",
       "    <tr>\n",
       "      <th>std</th>\n",
       "      <td>1.198724</td>\n",
       "      <td>1.068775</td>\n",
       "      <td>0.499512</td>\n",
       "      <td>1.595021</td>\n",
       "      <td>1.321055</td>\n",
       "      <td>1.464749</td>\n",
       "      <td>1.322134</td>\n",
       "      <td>1.529603</td>\n",
       "      <td>1.486731</td>\n",
       "      <td>1.353248</td>\n",
       "      <td>...</td>\n",
       "      <td>0.972008</td>\n",
       "      <td>0.920309</td>\n",
       "      <td>0.986736</td>\n",
       "      <td>0.727137</td>\n",
       "      <td>1.459654</td>\n",
       "      <td>0.973967</td>\n",
       "      <td>1.111598</td>\n",
       "      <td>1.002376</td>\n",
       "      <td>2.303739</td>\n",
       "      <td>1.36298</td>\n",
       "    </tr>\n",
       "    <tr>\n",
       "      <th>min</th>\n",
       "      <td>-1.000000</td>\n",
       "      <td>1.000000</td>\n",
       "      <td>1.000000</td>\n",
       "      <td>1.000000</td>\n",
       "      <td>1.000000</td>\n",
       "      <td>1.000000</td>\n",
       "      <td>1.000000</td>\n",
       "      <td>1.000000</td>\n",
       "      <td>1.000000</td>\n",
       "      <td>1.000000</td>\n",
       "      <td>...</td>\n",
       "      <td>0.000000</td>\n",
       "      <td>0.000000</td>\n",
       "      <td>0.000000</td>\n",
       "      <td>0.000000</td>\n",
       "      <td>1.000000</td>\n",
       "      <td>1.000000</td>\n",
       "      <td>1.000000</td>\n",
       "      <td>1.000000</td>\n",
       "      <td>0.000000</td>\n",
       "      <td>1.00000</td>\n",
       "    </tr>\n",
       "    <tr>\n",
       "      <th>25%</th>\n",
       "      <td>-1.000000</td>\n",
       "      <td>2.000000</td>\n",
       "      <td>1.000000</td>\n",
       "      <td>2.000000</td>\n",
       "      <td>2.000000</td>\n",
       "      <td>1.000000</td>\n",
       "      <td>3.000000</td>\n",
       "      <td>2.000000</td>\n",
       "      <td>2.000000</td>\n",
       "      <td>2.000000</td>\n",
       "      <td>...</td>\n",
       "      <td>1.000000</td>\n",
       "      <td>2.000000</td>\n",
       "      <td>1.000000</td>\n",
       "      <td>0.000000</td>\n",
       "      <td>1.000000</td>\n",
       "      <td>3.000000</td>\n",
       "      <td>3.000000</td>\n",
       "      <td>3.000000</td>\n",
       "      <td>4.000000</td>\n",
       "      <td>2.00000</td>\n",
       "    </tr>\n",
       "    <tr>\n",
       "      <th>50%</th>\n",
       "      <td>-1.000000</td>\n",
       "      <td>3.000000</td>\n",
       "      <td>2.000000</td>\n",
       "      <td>4.000000</td>\n",
       "      <td>3.000000</td>\n",
       "      <td>3.000000</td>\n",
       "      <td>3.000000</td>\n",
       "      <td>3.000000</td>\n",
       "      <td>3.000000</td>\n",
       "      <td>3.000000</td>\n",
       "      <td>...</td>\n",
       "      <td>2.000000</td>\n",
       "      <td>3.000000</td>\n",
       "      <td>2.000000</td>\n",
       "      <td>1.000000</td>\n",
       "      <td>1.000000</td>\n",
       "      <td>4.000000</td>\n",
       "      <td>3.000000</td>\n",
       "      <td>3.000000</td>\n",
       "      <td>5.000000</td>\n",
       "      <td>3.00000</td>\n",
       "    </tr>\n",
       "    <tr>\n",
       "      <th>75%</th>\n",
       "      <td>-1.000000</td>\n",
       "      <td>4.000000</td>\n",
       "      <td>2.000000</td>\n",
       "      <td>5.000000</td>\n",
       "      <td>4.000000</td>\n",
       "      <td>4.000000</td>\n",
       "      <td>5.000000</td>\n",
       "      <td>5.000000</td>\n",
       "      <td>4.000000</td>\n",
       "      <td>4.000000</td>\n",
       "      <td>...</td>\n",
       "      <td>3.000000</td>\n",
       "      <td>3.000000</td>\n",
       "      <td>2.000000</td>\n",
       "      <td>1.000000</td>\n",
       "      <td>3.000000</td>\n",
       "      <td>4.000000</td>\n",
       "      <td>4.000000</td>\n",
       "      <td>4.000000</td>\n",
       "      <td>7.000000</td>\n",
       "      <td>4.00000</td>\n",
       "    </tr>\n",
       "    <tr>\n",
       "      <th>max</th>\n",
       "      <td>3.000000</td>\n",
       "      <td>9.000000</td>\n",
       "      <td>2.000000</td>\n",
       "      <td>6.000000</td>\n",
       "      <td>5.000000</td>\n",
       "      <td>5.000000</td>\n",
       "      <td>5.000000</td>\n",
       "      <td>5.000000</td>\n",
       "      <td>5.000000</td>\n",
       "      <td>5.000000</td>\n",
       "      <td>...</td>\n",
       "      <td>4.000000</td>\n",
       "      <td>4.000000</td>\n",
       "      <td>3.000000</td>\n",
       "      <td>2.000000</td>\n",
       "      <td>5.000000</td>\n",
       "      <td>5.000000</td>\n",
       "      <td>5.000000</td>\n",
       "      <td>9.000000</td>\n",
       "      <td>9.000000</td>\n",
       "      <td>9.00000</td>\n",
       "    </tr>\n",
       "  </tbody>\n",
       "</table>\n",
       "<p>8 rows × 81 columns</p>\n",
       "</div>"
      ],
      "text/plain": [
       "            AGER_TYP  ALTERSKATEGORIE_GROB      ANREDE_KZ  CJT_GESAMTTYP  \\\n",
       "count  891221.000000         891221.000000  891221.000000  886367.000000   \n",
       "mean       -0.358435              2.777398       1.522098       3.632838   \n",
       "std         1.198724              1.068775       0.499512       1.595021   \n",
       "min        -1.000000              1.000000       1.000000       1.000000   \n",
       "25%        -1.000000              2.000000       1.000000       2.000000   \n",
       "50%        -1.000000              3.000000       2.000000       4.000000   \n",
       "75%        -1.000000              4.000000       2.000000       5.000000   \n",
       "max         3.000000              9.000000       2.000000       6.000000   \n",
       "\n",
       "       FINANZ_MINIMALIST  FINANZ_SPARER  FINANZ_VORSORGER  FINANZ_ANLEGER  \\\n",
       "count      891221.000000  891221.000000     891221.000000   891221.000000   \n",
       "mean            3.074528       2.821039          3.401106        3.033328   \n",
       "std             1.321055       1.464749          1.322134        1.529603   \n",
       "min             1.000000       1.000000          1.000000        1.000000   \n",
       "25%             2.000000       1.000000          3.000000        2.000000   \n",
       "50%             3.000000       3.000000          3.000000        3.000000   \n",
       "75%             4.000000       4.000000          5.000000        5.000000   \n",
       "max             5.000000       5.000000          5.000000        5.000000   \n",
       "\n",
       "       FINANZ_UNAUFFAELLIGER  FINANZ_HAUSBAUER      ...          PLZ8_ANTG1  \\\n",
       "count          891221.000000     891221.000000      ...       774706.000000   \n",
       "mean                2.874167          3.075121      ...            2.253330   \n",
       "std                 1.486731          1.353248      ...            0.972008   \n",
       "min                 1.000000          1.000000      ...            0.000000   \n",
       "25%                 2.000000          2.000000      ...            1.000000   \n",
       "50%                 3.000000          3.000000      ...            2.000000   \n",
       "75%                 4.000000          4.000000      ...            3.000000   \n",
       "max                 5.000000          5.000000      ...            4.000000   \n",
       "\n",
       "          PLZ8_ANTG2     PLZ8_ANTG3     PLZ8_ANTG4    PLZ8_BAUMAX  \\\n",
       "count  774706.000000  774706.000000  774706.000000  774706.000000   \n",
       "mean        2.801858       1.595426       0.699166       1.943913   \n",
       "std         0.920309       0.986736       0.727137       1.459654   \n",
       "min         0.000000       0.000000       0.000000       1.000000   \n",
       "25%         2.000000       1.000000       0.000000       1.000000   \n",
       "50%         3.000000       2.000000       1.000000       1.000000   \n",
       "75%         3.000000       2.000000       1.000000       3.000000   \n",
       "max         4.000000       3.000000       2.000000       5.000000   \n",
       "\n",
       "            PLZ8_HHZ       PLZ8_GBZ         ARBEIT    ORTSGR_KLS9  \\\n",
       "count  774706.000000  774706.000000  794005.000000  794005.000000   \n",
       "mean        3.612821       3.381087       3.167854       5.293002   \n",
       "std         0.973967       1.111598       1.002376       2.303739   \n",
       "min         1.000000       1.000000       1.000000       0.000000   \n",
       "25%         3.000000       3.000000       3.000000       4.000000   \n",
       "50%         4.000000       3.000000       3.000000       5.000000   \n",
       "75%         4.000000       4.000000       4.000000       7.000000   \n",
       "max         5.000000       5.000000       9.000000       9.000000   \n",
       "\n",
       "           RELAT_AB  \n",
       "count  794005.00000  \n",
       "mean        3.07222  \n",
       "std         1.36298  \n",
       "min         1.00000  \n",
       "25%         2.00000  \n",
       "50%         3.00000  \n",
       "75%         4.00000  \n",
       "max         9.00000  \n",
       "\n",
       "[8 rows x 81 columns]"
      ]
     },
     "execution_count": 4,
     "metadata": {},
     "output_type": "execute_result"
    }
   ],
   "source": [
    "azdias.describe()"
   ]
  },
  {
   "cell_type": "code",
   "execution_count": 5,
   "metadata": {},
   "outputs": [
    {
     "data": {
      "text/html": [
       "<div>\n",
       "<style>\n",
       "    .dataframe thead tr:only-child th {\n",
       "        text-align: right;\n",
       "    }\n",
       "\n",
       "    .dataframe thead th {\n",
       "        text-align: left;\n",
       "    }\n",
       "\n",
       "    .dataframe tbody tr th {\n",
       "        vertical-align: top;\n",
       "    }\n",
       "</style>\n",
       "<table border=\"1\" class=\"dataframe\">\n",
       "  <thead>\n",
       "    <tr style=\"text-align: right;\">\n",
       "      <th></th>\n",
       "      <th>AGER_TYP</th>\n",
       "      <th>ALTERSKATEGORIE_GROB</th>\n",
       "      <th>ANREDE_KZ</th>\n",
       "      <th>CJT_GESAMTTYP</th>\n",
       "      <th>FINANZ_MINIMALIST</th>\n",
       "      <th>FINANZ_SPARER</th>\n",
       "      <th>FINANZ_VORSORGER</th>\n",
       "      <th>FINANZ_ANLEGER</th>\n",
       "      <th>FINANZ_UNAUFFAELLIGER</th>\n",
       "      <th>FINANZ_HAUSBAUER</th>\n",
       "      <th>...</th>\n",
       "      <th>PLZ8_ANTG1</th>\n",
       "      <th>PLZ8_ANTG2</th>\n",
       "      <th>PLZ8_ANTG3</th>\n",
       "      <th>PLZ8_ANTG4</th>\n",
       "      <th>PLZ8_BAUMAX</th>\n",
       "      <th>PLZ8_HHZ</th>\n",
       "      <th>PLZ8_GBZ</th>\n",
       "      <th>ARBEIT</th>\n",
       "      <th>ORTSGR_KLS9</th>\n",
       "      <th>RELAT_AB</th>\n",
       "    </tr>\n",
       "  </thead>\n",
       "  <tbody>\n",
       "    <tr>\n",
       "      <th>0</th>\n",
       "      <td>-1</td>\n",
       "      <td>2</td>\n",
       "      <td>1</td>\n",
       "      <td>2.0</td>\n",
       "      <td>3</td>\n",
       "      <td>4</td>\n",
       "      <td>3</td>\n",
       "      <td>5</td>\n",
       "      <td>5</td>\n",
       "      <td>3</td>\n",
       "      <td>...</td>\n",
       "      <td>NaN</td>\n",
       "      <td>NaN</td>\n",
       "      <td>NaN</td>\n",
       "      <td>NaN</td>\n",
       "      <td>NaN</td>\n",
       "      <td>NaN</td>\n",
       "      <td>NaN</td>\n",
       "      <td>NaN</td>\n",
       "      <td>NaN</td>\n",
       "      <td>NaN</td>\n",
       "    </tr>\n",
       "    <tr>\n",
       "      <th>1</th>\n",
       "      <td>-1</td>\n",
       "      <td>1</td>\n",
       "      <td>2</td>\n",
       "      <td>5.0</td>\n",
       "      <td>1</td>\n",
       "      <td>5</td>\n",
       "      <td>2</td>\n",
       "      <td>5</td>\n",
       "      <td>4</td>\n",
       "      <td>5</td>\n",
       "      <td>...</td>\n",
       "      <td>2.0</td>\n",
       "      <td>3.0</td>\n",
       "      <td>2.0</td>\n",
       "      <td>1.0</td>\n",
       "      <td>1.0</td>\n",
       "      <td>5.0</td>\n",
       "      <td>4.0</td>\n",
       "      <td>3.0</td>\n",
       "      <td>5.0</td>\n",
       "      <td>4.0</td>\n",
       "    </tr>\n",
       "    <tr>\n",
       "      <th>2</th>\n",
       "      <td>-1</td>\n",
       "      <td>3</td>\n",
       "      <td>2</td>\n",
       "      <td>3.0</td>\n",
       "      <td>1</td>\n",
       "      <td>4</td>\n",
       "      <td>1</td>\n",
       "      <td>2</td>\n",
       "      <td>3</td>\n",
       "      <td>5</td>\n",
       "      <td>...</td>\n",
       "      <td>3.0</td>\n",
       "      <td>3.0</td>\n",
       "      <td>1.0</td>\n",
       "      <td>0.0</td>\n",
       "      <td>1.0</td>\n",
       "      <td>4.0</td>\n",
       "      <td>4.0</td>\n",
       "      <td>3.0</td>\n",
       "      <td>5.0</td>\n",
       "      <td>2.0</td>\n",
       "    </tr>\n",
       "    <tr>\n",
       "      <th>3</th>\n",
       "      <td>2</td>\n",
       "      <td>4</td>\n",
       "      <td>2</td>\n",
       "      <td>2.0</td>\n",
       "      <td>4</td>\n",
       "      <td>2</td>\n",
       "      <td>5</td>\n",
       "      <td>2</td>\n",
       "      <td>1</td>\n",
       "      <td>2</td>\n",
       "      <td>...</td>\n",
       "      <td>2.0</td>\n",
       "      <td>2.0</td>\n",
       "      <td>2.0</td>\n",
       "      <td>0.0</td>\n",
       "      <td>1.0</td>\n",
       "      <td>3.0</td>\n",
       "      <td>4.0</td>\n",
       "      <td>2.0</td>\n",
       "      <td>3.0</td>\n",
       "      <td>3.0</td>\n",
       "    </tr>\n",
       "    <tr>\n",
       "      <th>4</th>\n",
       "      <td>-1</td>\n",
       "      <td>3</td>\n",
       "      <td>1</td>\n",
       "      <td>5.0</td>\n",
       "      <td>4</td>\n",
       "      <td>3</td>\n",
       "      <td>4</td>\n",
       "      <td>1</td>\n",
       "      <td>3</td>\n",
       "      <td>2</td>\n",
       "      <td>...</td>\n",
       "      <td>2.0</td>\n",
       "      <td>4.0</td>\n",
       "      <td>2.0</td>\n",
       "      <td>1.0</td>\n",
       "      <td>2.0</td>\n",
       "      <td>3.0</td>\n",
       "      <td>3.0</td>\n",
       "      <td>4.0</td>\n",
       "      <td>6.0</td>\n",
       "      <td>5.0</td>\n",
       "    </tr>\n",
       "  </tbody>\n",
       "</table>\n",
       "<p>5 rows × 85 columns</p>\n",
       "</div>"
      ],
      "text/plain": [
       "   AGER_TYP  ALTERSKATEGORIE_GROB  ANREDE_KZ  CJT_GESAMTTYP  \\\n",
       "0        -1                     2          1            2.0   \n",
       "1        -1                     1          2            5.0   \n",
       "2        -1                     3          2            3.0   \n",
       "3         2                     4          2            2.0   \n",
       "4        -1                     3          1            5.0   \n",
       "\n",
       "   FINANZ_MINIMALIST  FINANZ_SPARER  FINANZ_VORSORGER  FINANZ_ANLEGER  \\\n",
       "0                  3              4                 3               5   \n",
       "1                  1              5                 2               5   \n",
       "2                  1              4                 1               2   \n",
       "3                  4              2                 5               2   \n",
       "4                  4              3                 4               1   \n",
       "\n",
       "   FINANZ_UNAUFFAELLIGER  FINANZ_HAUSBAUER    ...     PLZ8_ANTG1  PLZ8_ANTG2  \\\n",
       "0                      5                 3    ...            NaN         NaN   \n",
       "1                      4                 5    ...            2.0         3.0   \n",
       "2                      3                 5    ...            3.0         3.0   \n",
       "3                      1                 2    ...            2.0         2.0   \n",
       "4                      3                 2    ...            2.0         4.0   \n",
       "\n",
       "   PLZ8_ANTG3  PLZ8_ANTG4  PLZ8_BAUMAX  PLZ8_HHZ  PLZ8_GBZ  ARBEIT  \\\n",
       "0         NaN         NaN          NaN       NaN       NaN     NaN   \n",
       "1         2.0         1.0          1.0       5.0       4.0     3.0   \n",
       "2         1.0         0.0          1.0       4.0       4.0     3.0   \n",
       "3         2.0         0.0          1.0       3.0       4.0     2.0   \n",
       "4         2.0         1.0          2.0       3.0       3.0     4.0   \n",
       "\n",
       "   ORTSGR_KLS9  RELAT_AB  \n",
       "0          NaN       NaN  \n",
       "1          5.0       4.0  \n",
       "2          5.0       2.0  \n",
       "3          3.0       3.0  \n",
       "4          6.0       5.0  \n",
       "\n",
       "[5 rows x 85 columns]"
      ]
     },
     "execution_count": 5,
     "metadata": {},
     "output_type": "execute_result"
    }
   ],
   "source": [
    "azdias.head()"
   ]
  },
  {
   "cell_type": "code",
   "execution_count": 6,
   "metadata": {},
   "outputs": [
    {
     "name": "stdout",
     "output_type": "stream",
     "text": [
      "<class 'pandas.core.frame.DataFrame'>\n",
      "RangeIndex: 85 entries, 0 to 84\n",
      "Data columns (total 4 columns):\n",
      "attribute             85 non-null object\n",
      "information_level     85 non-null object\n",
      "type                  85 non-null object\n",
      "missing_or_unknown    85 non-null object\n",
      "dtypes: object(4)\n",
      "memory usage: 2.7+ KB\n"
     ]
    }
   ],
   "source": [
    "# Check feature data\n",
    "feat_info.info()"
   ]
  },
  {
   "cell_type": "code",
   "execution_count": 7,
   "metadata": {},
   "outputs": [
    {
     "data": {
      "text/html": [
       "<div>\n",
       "<style>\n",
       "    .dataframe thead tr:only-child th {\n",
       "        text-align: right;\n",
       "    }\n",
       "\n",
       "    .dataframe thead th {\n",
       "        text-align: left;\n",
       "    }\n",
       "\n",
       "    .dataframe tbody tr th {\n",
       "        vertical-align: top;\n",
       "    }\n",
       "</style>\n",
       "<table border=\"1\" class=\"dataframe\">\n",
       "  <thead>\n",
       "    <tr style=\"text-align: right;\">\n",
       "      <th></th>\n",
       "      <th>attribute</th>\n",
       "      <th>information_level</th>\n",
       "      <th>type</th>\n",
       "      <th>missing_or_unknown</th>\n",
       "    </tr>\n",
       "  </thead>\n",
       "  <tbody>\n",
       "    <tr>\n",
       "      <th>count</th>\n",
       "      <td>85</td>\n",
       "      <td>85</td>\n",
       "      <td>85</td>\n",
       "      <td>85</td>\n",
       "    </tr>\n",
       "    <tr>\n",
       "      <th>unique</th>\n",
       "      <td>85</td>\n",
       "      <td>9</td>\n",
       "      <td>5</td>\n",
       "      <td>9</td>\n",
       "    </tr>\n",
       "    <tr>\n",
       "      <th>top</th>\n",
       "      <td>WOHNLAGE</td>\n",
       "      <td>person</td>\n",
       "      <td>ordinal</td>\n",
       "      <td>[-1]</td>\n",
       "    </tr>\n",
       "    <tr>\n",
       "      <th>freq</th>\n",
       "      <td>1</td>\n",
       "      <td>43</td>\n",
       "      <td>49</td>\n",
       "      <td>26</td>\n",
       "    </tr>\n",
       "  </tbody>\n",
       "</table>\n",
       "</div>"
      ],
      "text/plain": [
       "       attribute information_level     type missing_or_unknown\n",
       "count         85                85       85                 85\n",
       "unique        85                 9        5                  9\n",
       "top     WOHNLAGE            person  ordinal               [-1]\n",
       "freq           1                43       49                 26"
      ]
     },
     "execution_count": 7,
     "metadata": {},
     "output_type": "execute_result"
    }
   ],
   "source": [
    "feat_info.describe()"
   ]
  },
  {
   "cell_type": "code",
   "execution_count": 8,
   "metadata": {},
   "outputs": [
    {
     "data": {
      "text/html": [
       "<div>\n",
       "<style>\n",
       "    .dataframe thead tr:only-child th {\n",
       "        text-align: right;\n",
       "    }\n",
       "\n",
       "    .dataframe thead th {\n",
       "        text-align: left;\n",
       "    }\n",
       "\n",
       "    .dataframe tbody tr th {\n",
       "        vertical-align: top;\n",
       "    }\n",
       "</style>\n",
       "<table border=\"1\" class=\"dataframe\">\n",
       "  <thead>\n",
       "    <tr style=\"text-align: right;\">\n",
       "      <th></th>\n",
       "      <th>attribute</th>\n",
       "      <th>information_level</th>\n",
       "      <th>type</th>\n",
       "      <th>missing_or_unknown</th>\n",
       "    </tr>\n",
       "  </thead>\n",
       "  <tbody>\n",
       "    <tr>\n",
       "      <th>0</th>\n",
       "      <td>AGER_TYP</td>\n",
       "      <td>person</td>\n",
       "      <td>categorical</td>\n",
       "      <td>[-1,0]</td>\n",
       "    </tr>\n",
       "    <tr>\n",
       "      <th>1</th>\n",
       "      <td>ALTERSKATEGORIE_GROB</td>\n",
       "      <td>person</td>\n",
       "      <td>ordinal</td>\n",
       "      <td>[-1,0,9]</td>\n",
       "    </tr>\n",
       "    <tr>\n",
       "      <th>2</th>\n",
       "      <td>ANREDE_KZ</td>\n",
       "      <td>person</td>\n",
       "      <td>categorical</td>\n",
       "      <td>[-1,0]</td>\n",
       "    </tr>\n",
       "    <tr>\n",
       "      <th>3</th>\n",
       "      <td>CJT_GESAMTTYP</td>\n",
       "      <td>person</td>\n",
       "      <td>categorical</td>\n",
       "      <td>[0]</td>\n",
       "    </tr>\n",
       "    <tr>\n",
       "      <th>4</th>\n",
       "      <td>FINANZ_MINIMALIST</td>\n",
       "      <td>person</td>\n",
       "      <td>ordinal</td>\n",
       "      <td>[-1]</td>\n",
       "    </tr>\n",
       "  </tbody>\n",
       "</table>\n",
       "</div>"
      ],
      "text/plain": [
       "              attribute information_level         type missing_or_unknown\n",
       "0              AGER_TYP            person  categorical             [-1,0]\n",
       "1  ALTERSKATEGORIE_GROB            person      ordinal           [-1,0,9]\n",
       "2             ANREDE_KZ            person  categorical             [-1,0]\n",
       "3         CJT_GESAMTTYP            person  categorical                [0]\n",
       "4     FINANZ_MINIMALIST            person      ordinal               [-1]"
      ]
     },
     "execution_count": 8,
     "metadata": {},
     "output_type": "execute_result"
    }
   ],
   "source": [
    "feat_info.head()"
   ]
  },
  {
   "cell_type": "markdown",
   "metadata": {},
   "source": [
    "So for example, in the 'AGER_TYP' column we will need to replace any values. If we look at the first few rows of the demographics data again..."
   ]
  },
  {
   "cell_type": "code",
   "execution_count": 9,
   "metadata": {},
   "outputs": [
    {
     "data": {
      "text/html": [
       "<div>\n",
       "<style>\n",
       "    .dataframe thead tr:only-child th {\n",
       "        text-align: right;\n",
       "    }\n",
       "\n",
       "    .dataframe thead th {\n",
       "        text-align: left;\n",
       "    }\n",
       "\n",
       "    .dataframe tbody tr th {\n",
       "        vertical-align: top;\n",
       "    }\n",
       "</style>\n",
       "<table border=\"1\" class=\"dataframe\">\n",
       "  <thead>\n",
       "    <tr style=\"text-align: right;\">\n",
       "      <th></th>\n",
       "      <th>AGER_TYP</th>\n",
       "      <th>ALTERSKATEGORIE_GROB</th>\n",
       "      <th>ANREDE_KZ</th>\n",
       "      <th>CJT_GESAMTTYP</th>\n",
       "      <th>FINANZ_MINIMALIST</th>\n",
       "      <th>FINANZ_SPARER</th>\n",
       "      <th>FINANZ_VORSORGER</th>\n",
       "      <th>FINANZ_ANLEGER</th>\n",
       "      <th>FINANZ_UNAUFFAELLIGER</th>\n",
       "      <th>FINANZ_HAUSBAUER</th>\n",
       "      <th>...</th>\n",
       "      <th>PLZ8_ANTG1</th>\n",
       "      <th>PLZ8_ANTG2</th>\n",
       "      <th>PLZ8_ANTG3</th>\n",
       "      <th>PLZ8_ANTG4</th>\n",
       "      <th>PLZ8_BAUMAX</th>\n",
       "      <th>PLZ8_HHZ</th>\n",
       "      <th>PLZ8_GBZ</th>\n",
       "      <th>ARBEIT</th>\n",
       "      <th>ORTSGR_KLS9</th>\n",
       "      <th>RELAT_AB</th>\n",
       "    </tr>\n",
       "  </thead>\n",
       "  <tbody>\n",
       "    <tr>\n",
       "      <th>0</th>\n",
       "      <td>-1</td>\n",
       "      <td>2</td>\n",
       "      <td>1</td>\n",
       "      <td>2.0</td>\n",
       "      <td>3</td>\n",
       "      <td>4</td>\n",
       "      <td>3</td>\n",
       "      <td>5</td>\n",
       "      <td>5</td>\n",
       "      <td>3</td>\n",
       "      <td>...</td>\n",
       "      <td>NaN</td>\n",
       "      <td>NaN</td>\n",
       "      <td>NaN</td>\n",
       "      <td>NaN</td>\n",
       "      <td>NaN</td>\n",
       "      <td>NaN</td>\n",
       "      <td>NaN</td>\n",
       "      <td>NaN</td>\n",
       "      <td>NaN</td>\n",
       "      <td>NaN</td>\n",
       "    </tr>\n",
       "    <tr>\n",
       "      <th>1</th>\n",
       "      <td>-1</td>\n",
       "      <td>1</td>\n",
       "      <td>2</td>\n",
       "      <td>5.0</td>\n",
       "      <td>1</td>\n",
       "      <td>5</td>\n",
       "      <td>2</td>\n",
       "      <td>5</td>\n",
       "      <td>4</td>\n",
       "      <td>5</td>\n",
       "      <td>...</td>\n",
       "      <td>2.0</td>\n",
       "      <td>3.0</td>\n",
       "      <td>2.0</td>\n",
       "      <td>1.0</td>\n",
       "      <td>1.0</td>\n",
       "      <td>5.0</td>\n",
       "      <td>4.0</td>\n",
       "      <td>3.0</td>\n",
       "      <td>5.0</td>\n",
       "      <td>4.0</td>\n",
       "    </tr>\n",
       "    <tr>\n",
       "      <th>2</th>\n",
       "      <td>-1</td>\n",
       "      <td>3</td>\n",
       "      <td>2</td>\n",
       "      <td>3.0</td>\n",
       "      <td>1</td>\n",
       "      <td>4</td>\n",
       "      <td>1</td>\n",
       "      <td>2</td>\n",
       "      <td>3</td>\n",
       "      <td>5</td>\n",
       "      <td>...</td>\n",
       "      <td>3.0</td>\n",
       "      <td>3.0</td>\n",
       "      <td>1.0</td>\n",
       "      <td>0.0</td>\n",
       "      <td>1.0</td>\n",
       "      <td>4.0</td>\n",
       "      <td>4.0</td>\n",
       "      <td>3.0</td>\n",
       "      <td>5.0</td>\n",
       "      <td>2.0</td>\n",
       "    </tr>\n",
       "    <tr>\n",
       "      <th>3</th>\n",
       "      <td>2</td>\n",
       "      <td>4</td>\n",
       "      <td>2</td>\n",
       "      <td>2.0</td>\n",
       "      <td>4</td>\n",
       "      <td>2</td>\n",
       "      <td>5</td>\n",
       "      <td>2</td>\n",
       "      <td>1</td>\n",
       "      <td>2</td>\n",
       "      <td>...</td>\n",
       "      <td>2.0</td>\n",
       "      <td>2.0</td>\n",
       "      <td>2.0</td>\n",
       "      <td>0.0</td>\n",
       "      <td>1.0</td>\n",
       "      <td>3.0</td>\n",
       "      <td>4.0</td>\n",
       "      <td>2.0</td>\n",
       "      <td>3.0</td>\n",
       "      <td>3.0</td>\n",
       "    </tr>\n",
       "    <tr>\n",
       "      <th>4</th>\n",
       "      <td>-1</td>\n",
       "      <td>3</td>\n",
       "      <td>1</td>\n",
       "      <td>5.0</td>\n",
       "      <td>4</td>\n",
       "      <td>3</td>\n",
       "      <td>4</td>\n",
       "      <td>1</td>\n",
       "      <td>3</td>\n",
       "      <td>2</td>\n",
       "      <td>...</td>\n",
       "      <td>2.0</td>\n",
       "      <td>4.0</td>\n",
       "      <td>2.0</td>\n",
       "      <td>1.0</td>\n",
       "      <td>2.0</td>\n",
       "      <td>3.0</td>\n",
       "      <td>3.0</td>\n",
       "      <td>4.0</td>\n",
       "      <td>6.0</td>\n",
       "      <td>5.0</td>\n",
       "    </tr>\n",
       "  </tbody>\n",
       "</table>\n",
       "<p>5 rows × 85 columns</p>\n",
       "</div>"
      ],
      "text/plain": [
       "   AGER_TYP  ALTERSKATEGORIE_GROB  ANREDE_KZ  CJT_GESAMTTYP  \\\n",
       "0        -1                     2          1            2.0   \n",
       "1        -1                     1          2            5.0   \n",
       "2        -1                     3          2            3.0   \n",
       "3         2                     4          2            2.0   \n",
       "4        -1                     3          1            5.0   \n",
       "\n",
       "   FINANZ_MINIMALIST  FINANZ_SPARER  FINANZ_VORSORGER  FINANZ_ANLEGER  \\\n",
       "0                  3              4                 3               5   \n",
       "1                  1              5                 2               5   \n",
       "2                  1              4                 1               2   \n",
       "3                  4              2                 5               2   \n",
       "4                  4              3                 4               1   \n",
       "\n",
       "   FINANZ_UNAUFFAELLIGER  FINANZ_HAUSBAUER    ...     PLZ8_ANTG1  PLZ8_ANTG2  \\\n",
       "0                      5                 3    ...            NaN         NaN   \n",
       "1                      4                 5    ...            2.0         3.0   \n",
       "2                      3                 5    ...            3.0         3.0   \n",
       "3                      1                 2    ...            2.0         2.0   \n",
       "4                      3                 2    ...            2.0         4.0   \n",
       "\n",
       "   PLZ8_ANTG3  PLZ8_ANTG4  PLZ8_BAUMAX  PLZ8_HHZ  PLZ8_GBZ  ARBEIT  \\\n",
       "0         NaN         NaN          NaN       NaN       NaN     NaN   \n",
       "1         2.0         1.0          1.0       5.0       4.0     3.0   \n",
       "2         1.0         0.0          1.0       4.0       4.0     3.0   \n",
       "3         2.0         0.0          1.0       3.0       4.0     2.0   \n",
       "4         2.0         1.0          2.0       3.0       3.0     4.0   \n",
       "\n",
       "   ORTSGR_KLS9  RELAT_AB  \n",
       "0          NaN       NaN  \n",
       "1          5.0       4.0  \n",
       "2          5.0       2.0  \n",
       "3          3.0       3.0  \n",
       "4          6.0       5.0  \n",
       "\n",
       "[5 rows x 85 columns]"
      ]
     },
     "execution_count": 9,
     "metadata": {},
     "output_type": "execute_result"
    }
   ],
   "source": [
    "azdias.head()"
   ]
  },
  {
   "cell_type": "markdown",
   "metadata": {},
   "source": [
    "We can see that we have 4 examples of 'encoded' NaN values (as -1) for 'AGER_TYP' in the first 5 rows, we can use this to check if our replacement has worked later."
   ]
  },
  {
   "cell_type": "code",
   "execution_count": 10,
   "metadata": {},
   "outputs": [
    {
     "data": {
      "text/plain": [
       "array(['[-1,0]', '[-1,0,9]', '[0]', '[-1]', '[]', '[-1,9]', '[-1,X]',\n",
       "       '[XX]', '[-1,XX]'], dtype=object)"
      ]
     },
     "execution_count": 10,
     "metadata": {},
     "output_type": "execute_result"
    }
   ],
   "source": [
    "feat_info.missing_or_unknown.unique()"
   ]
  },
  {
   "cell_type": "markdown",
   "metadata": {},
   "source": [
    "## Step 1: Preprocessing\n",
    "\n",
    "### Step 1.1: Assess Missing Data\n",
    "\n",
    "The feature summary file contains a summary of properties for each demographics data column. I will use this file to help make cleaning decisions during this stage of the project. First of all, I will assess the demographics data in terms of missing data. \n",
    "\n",
    "#### Step 1.1.1: Convert Missing Value Codes to NaNs\n",
    "The fourth column of the feature attributes summary (loaded in above as `feat_info`) documents the codes from the data dictionary that indicate missing or unknown data. While the file encodes this as a list (e.g. `[-1,0]`), this will get read in as a string object. I will need to do a little bit of parsing to make use of it to identify and clean the data. I will then convert data that matches a 'missing' or 'unknown' value code into a numpy NaN value. "
   ]
  },
  {
   "cell_type": "code",
   "execution_count": 11,
   "metadata": {},
   "outputs": [
    {
     "data": {
      "text/plain": [
       "4896838"
      ]
     },
     "execution_count": 11,
     "metadata": {},
     "output_type": "execute_result"
    }
   ],
   "source": [
    "# Identify missing or unknown data values and convert them to NaNs.\n",
    "# Check currently missing data in whole of demographics data\n",
    "azdias.isnull().values.sum()"
   ]
  },
  {
   "cell_type": "markdown",
   "metadata": {},
   "source": [
    "Thats a lot of missing values, nearly 5 million cells out of around (85 x 891221) approx 75 million cells. So around 7% of cells currrently, before converting other encoded missing values."
   ]
  },
  {
   "cell_type": "code",
   "execution_count": 12,
   "metadata": {},
   "outputs": [
    {
     "data": {
      "text/plain": [
       "AGER_TYP                      0\n",
       "ALTERSKATEGORIE_GROB          0\n",
       "ANREDE_KZ                     0\n",
       "CJT_GESAMTTYP              4854\n",
       "FINANZ_MINIMALIST             0\n",
       "FINANZ_SPARER                 0\n",
       "FINANZ_VORSORGER              0\n",
       "FINANZ_ANLEGER                0\n",
       "FINANZ_UNAUFFAELLIGER         0\n",
       "FINANZ_HAUSBAUER              0\n",
       "FINANZTYP                     0\n",
       "GEBURTSJAHR                   0\n",
       "GFK_URLAUBERTYP            4854\n",
       "GREEN_AVANTGARDE              0\n",
       "HEALTH_TYP                    0\n",
       "LP_LEBENSPHASE_FEIN        4854\n",
       "LP_LEBENSPHASE_GROB        4854\n",
       "LP_FAMILIE_FEIN            4854\n",
       "LP_FAMILIE_GROB            4854\n",
       "LP_STATUS_FEIN             4854\n",
       "LP_STATUS_GROB             4854\n",
       "NATIONALITAET_KZ              0\n",
       "PRAEGENDE_JUGENDJAHRE         0\n",
       "RETOURTYP_BK_S             4854\n",
       "SEMIO_SOZ                     0\n",
       "SEMIO_FAM                     0\n",
       "SEMIO_REL                     0\n",
       "SEMIO_MAT                     0\n",
       "SEMIO_VERT                    0\n",
       "SEMIO_LUST                    0\n",
       "                          ...  \n",
       "OST_WEST_KZ               93148\n",
       "WOHNLAGE                  93148\n",
       "CAMEO_DEUG_2015           98979\n",
       "CAMEO_DEU_2015            98979\n",
       "CAMEO_INTL_2015           98979\n",
       "KBA05_ANTG1              133324\n",
       "KBA05_ANTG2              133324\n",
       "KBA05_ANTG3              133324\n",
       "KBA05_ANTG4              133324\n",
       "KBA05_BAUMAX             133324\n",
       "KBA05_GBZ                133324\n",
       "BALLRAUM                  93740\n",
       "EWDICHTE                  93740\n",
       "INNENSTADT                93740\n",
       "GEBAEUDETYP_RASTER        93155\n",
       "KKK                      121196\n",
       "MOBI_REGIO               133324\n",
       "ONLINE_AFFINITAET          4854\n",
       "REGIOTYP                 121196\n",
       "KBA13_ANZAHL_PKW         105800\n",
       "PLZ8_ANTG1               116515\n",
       "PLZ8_ANTG2               116515\n",
       "PLZ8_ANTG3               116515\n",
       "PLZ8_ANTG4               116515\n",
       "PLZ8_BAUMAX              116515\n",
       "PLZ8_HHZ                 116515\n",
       "PLZ8_GBZ                 116515\n",
       "ARBEIT                    97216\n",
       "ORTSGR_KLS9               97216\n",
       "RELAT_AB                  97216\n",
       "Length: 85, dtype: int64"
      ]
     },
     "execution_count": 12,
     "metadata": {},
     "output_type": "execute_result"
    }
   ],
   "source": [
    "# Check currently missing data per column of demographics data\n",
    "azdias.isnull().sum(axis = 0)"
   ]
  },
  {
   "cell_type": "markdown",
   "metadata": {},
   "source": [
    "These missing values seem to be concerntrated in particilar columns, some more than others (ie the KBA05.. columns). Some columns have no missing values at all."
   ]
  },
  {
   "cell_type": "code",
   "execution_count": 13,
   "metadata": {},
   "outputs": [],
   "source": [
    "# Now convert encoded missing data into NaN's\n",
    "\n",
    "def replace_missing_with_NAN(data_df):\n",
    "    \n",
    "    # For each feature\n",
    "    for index, row in feat_info.iterrows():\n",
    "\n",
    "        # Check if we have values to replace with NaN\n",
    "        encodedNans = row['missing_or_unknown'].strip()\n",
    "        encodedNans = re.sub(r'[\\[\\]]','',encodedNans)\n",
    "\n",
    "        # If we have values to replace for this column\n",
    "        if encodedNans:\n",
    "\n",
    "            # Convert values into a list\n",
    "            encodedNansList = encodedNans.split(\",\")\n",
    "            # For each value to replace\n",
    "            for encodedNanValue in encodedNansList:\n",
    "\n",
    "                # Get corresponding column name in demographics data\n",
    "                column = row['attribute']    \n",
    "                # Cast value to correct type for this column if needed\n",
    "                if data_df[column].dtype == np.int64:\n",
    "                    encodedNanValue = int(encodedNanValue) \n",
    "                if data_df[column].dtype == np.float64:\n",
    "                    encodedNanValue = float(encodedNanValue) \n",
    "                # Replace with NaN in corresponding column in demographics data\n",
    "                data_df[column] = data_df[column].replace({encodedNanValue: np.nan})\n",
    "    # Return df           \n",
    "    return data_df\n",
    "            \n",
    "azdias = replace_missing_with_NAN(azdias)"
   ]
  },
  {
   "cell_type": "code",
   "execution_count": 14,
   "metadata": {},
   "outputs": [
    {
     "data": {
      "text/html": [
       "<div>\n",
       "<style>\n",
       "    .dataframe thead tr:only-child th {\n",
       "        text-align: right;\n",
       "    }\n",
       "\n",
       "    .dataframe thead th {\n",
       "        text-align: left;\n",
       "    }\n",
       "\n",
       "    .dataframe tbody tr th {\n",
       "        vertical-align: top;\n",
       "    }\n",
       "</style>\n",
       "<table border=\"1\" class=\"dataframe\">\n",
       "  <thead>\n",
       "    <tr style=\"text-align: right;\">\n",
       "      <th></th>\n",
       "      <th>AGER_TYP</th>\n",
       "      <th>ALTERSKATEGORIE_GROB</th>\n",
       "      <th>ANREDE_KZ</th>\n",
       "      <th>CJT_GESAMTTYP</th>\n",
       "      <th>FINANZ_MINIMALIST</th>\n",
       "      <th>FINANZ_SPARER</th>\n",
       "      <th>FINANZ_VORSORGER</th>\n",
       "      <th>FINANZ_ANLEGER</th>\n",
       "      <th>FINANZ_UNAUFFAELLIGER</th>\n",
       "      <th>FINANZ_HAUSBAUER</th>\n",
       "      <th>...</th>\n",
       "      <th>PLZ8_ANTG1</th>\n",
       "      <th>PLZ8_ANTG2</th>\n",
       "      <th>PLZ8_ANTG3</th>\n",
       "      <th>PLZ8_ANTG4</th>\n",
       "      <th>PLZ8_BAUMAX</th>\n",
       "      <th>PLZ8_HHZ</th>\n",
       "      <th>PLZ8_GBZ</th>\n",
       "      <th>ARBEIT</th>\n",
       "      <th>ORTSGR_KLS9</th>\n",
       "      <th>RELAT_AB</th>\n",
       "    </tr>\n",
       "  </thead>\n",
       "  <tbody>\n",
       "    <tr>\n",
       "      <th>0</th>\n",
       "      <td>NaN</td>\n",
       "      <td>2.0</td>\n",
       "      <td>1</td>\n",
       "      <td>2.0</td>\n",
       "      <td>3</td>\n",
       "      <td>4</td>\n",
       "      <td>3</td>\n",
       "      <td>5</td>\n",
       "      <td>5</td>\n",
       "      <td>3</td>\n",
       "      <td>...</td>\n",
       "      <td>NaN</td>\n",
       "      <td>NaN</td>\n",
       "      <td>NaN</td>\n",
       "      <td>NaN</td>\n",
       "      <td>NaN</td>\n",
       "      <td>NaN</td>\n",
       "      <td>NaN</td>\n",
       "      <td>NaN</td>\n",
       "      <td>NaN</td>\n",
       "      <td>NaN</td>\n",
       "    </tr>\n",
       "    <tr>\n",
       "      <th>1</th>\n",
       "      <td>NaN</td>\n",
       "      <td>1.0</td>\n",
       "      <td>2</td>\n",
       "      <td>5.0</td>\n",
       "      <td>1</td>\n",
       "      <td>5</td>\n",
       "      <td>2</td>\n",
       "      <td>5</td>\n",
       "      <td>4</td>\n",
       "      <td>5</td>\n",
       "      <td>...</td>\n",
       "      <td>2.0</td>\n",
       "      <td>3.0</td>\n",
       "      <td>2.0</td>\n",
       "      <td>1.0</td>\n",
       "      <td>1.0</td>\n",
       "      <td>5.0</td>\n",
       "      <td>4.0</td>\n",
       "      <td>3.0</td>\n",
       "      <td>5.0</td>\n",
       "      <td>4.0</td>\n",
       "    </tr>\n",
       "    <tr>\n",
       "      <th>2</th>\n",
       "      <td>NaN</td>\n",
       "      <td>3.0</td>\n",
       "      <td>2</td>\n",
       "      <td>3.0</td>\n",
       "      <td>1</td>\n",
       "      <td>4</td>\n",
       "      <td>1</td>\n",
       "      <td>2</td>\n",
       "      <td>3</td>\n",
       "      <td>5</td>\n",
       "      <td>...</td>\n",
       "      <td>3.0</td>\n",
       "      <td>3.0</td>\n",
       "      <td>1.0</td>\n",
       "      <td>0.0</td>\n",
       "      <td>1.0</td>\n",
       "      <td>4.0</td>\n",
       "      <td>4.0</td>\n",
       "      <td>3.0</td>\n",
       "      <td>5.0</td>\n",
       "      <td>2.0</td>\n",
       "    </tr>\n",
       "    <tr>\n",
       "      <th>3</th>\n",
       "      <td>2.0</td>\n",
       "      <td>4.0</td>\n",
       "      <td>2</td>\n",
       "      <td>2.0</td>\n",
       "      <td>4</td>\n",
       "      <td>2</td>\n",
       "      <td>5</td>\n",
       "      <td>2</td>\n",
       "      <td>1</td>\n",
       "      <td>2</td>\n",
       "      <td>...</td>\n",
       "      <td>2.0</td>\n",
       "      <td>2.0</td>\n",
       "      <td>2.0</td>\n",
       "      <td>0.0</td>\n",
       "      <td>1.0</td>\n",
       "      <td>3.0</td>\n",
       "      <td>4.0</td>\n",
       "      <td>2.0</td>\n",
       "      <td>3.0</td>\n",
       "      <td>3.0</td>\n",
       "    </tr>\n",
       "    <tr>\n",
       "      <th>4</th>\n",
       "      <td>NaN</td>\n",
       "      <td>3.0</td>\n",
       "      <td>1</td>\n",
       "      <td>5.0</td>\n",
       "      <td>4</td>\n",
       "      <td>3</td>\n",
       "      <td>4</td>\n",
       "      <td>1</td>\n",
       "      <td>3</td>\n",
       "      <td>2</td>\n",
       "      <td>...</td>\n",
       "      <td>2.0</td>\n",
       "      <td>4.0</td>\n",
       "      <td>2.0</td>\n",
       "      <td>1.0</td>\n",
       "      <td>2.0</td>\n",
       "      <td>3.0</td>\n",
       "      <td>3.0</td>\n",
       "      <td>4.0</td>\n",
       "      <td>6.0</td>\n",
       "      <td>5.0</td>\n",
       "    </tr>\n",
       "  </tbody>\n",
       "</table>\n",
       "<p>5 rows × 85 columns</p>\n",
       "</div>"
      ],
      "text/plain": [
       "   AGER_TYP  ALTERSKATEGORIE_GROB  ANREDE_KZ  CJT_GESAMTTYP  \\\n",
       "0       NaN                   2.0          1            2.0   \n",
       "1       NaN                   1.0          2            5.0   \n",
       "2       NaN                   3.0          2            3.0   \n",
       "3       2.0                   4.0          2            2.0   \n",
       "4       NaN                   3.0          1            5.0   \n",
       "\n",
       "   FINANZ_MINIMALIST  FINANZ_SPARER  FINANZ_VORSORGER  FINANZ_ANLEGER  \\\n",
       "0                  3              4                 3               5   \n",
       "1                  1              5                 2               5   \n",
       "2                  1              4                 1               2   \n",
       "3                  4              2                 5               2   \n",
       "4                  4              3                 4               1   \n",
       "\n",
       "   FINANZ_UNAUFFAELLIGER  FINANZ_HAUSBAUER    ...     PLZ8_ANTG1  PLZ8_ANTG2  \\\n",
       "0                      5                 3    ...            NaN         NaN   \n",
       "1                      4                 5    ...            2.0         3.0   \n",
       "2                      3                 5    ...            3.0         3.0   \n",
       "3                      1                 2    ...            2.0         2.0   \n",
       "4                      3                 2    ...            2.0         4.0   \n",
       "\n",
       "   PLZ8_ANTG3  PLZ8_ANTG4  PLZ8_BAUMAX  PLZ8_HHZ  PLZ8_GBZ  ARBEIT  \\\n",
       "0         NaN         NaN          NaN       NaN       NaN     NaN   \n",
       "1         2.0         1.0          1.0       5.0       4.0     3.0   \n",
       "2         1.0         0.0          1.0       4.0       4.0     3.0   \n",
       "3         2.0         0.0          1.0       3.0       4.0     2.0   \n",
       "4         2.0         1.0          2.0       3.0       3.0     4.0   \n",
       "\n",
       "   ORTSGR_KLS9  RELAT_AB  \n",
       "0          NaN       NaN  \n",
       "1          5.0       4.0  \n",
       "2          5.0       2.0  \n",
       "3          3.0       3.0  \n",
       "4          6.0       5.0  \n",
       "\n",
       "[5 rows x 85 columns]"
      ]
     },
     "execution_count": 14,
     "metadata": {},
     "output_type": "execute_result"
    }
   ],
   "source": [
    "# Lets now check the first few rows to see if it has replaced for the 'AGER_TYP' column the -1 values with NaN\n",
    "azdias.head()"
   ]
  },
  {
   "cell_type": "markdown",
   "metadata": {},
   "source": [
    "#### Step 1.1.2: Assess Missing Data in Each Column\n",
    "\n",
    "How much missing data is present in each column? There are a few columns that are outliers in terms of the proportion of values that are missing. I will identify and document these columns. While some of these columns might have justifications for keeping or re-encoding the data, for this project \n",
    "I will remove them from the dataframe."
   ]
  },
  {
   "cell_type": "code",
   "execution_count": 15,
   "metadata": {},
   "outputs": [
    {
     "data": {
      "text/plain": [
       "8373929"
      ]
     },
     "execution_count": 15,
     "metadata": {},
     "output_type": "execute_result"
    }
   ],
   "source": [
    "# Perform an assessment of how much missing data there is in each column of the\n",
    "# dataset.\n",
    "\n",
    "# Lets relook at total missing cells for all columns\n",
    "azdias.isnull().values.sum()"
   ]
  },
  {
   "cell_type": "markdown",
   "metadata": {},
   "source": [
    "So this has now increased from 4896838 to 8373929. How about the total missing data per column..."
   ]
  },
  {
   "cell_type": "code",
   "execution_count": 16,
   "metadata": {},
   "outputs": [
    {
     "data": {
      "text/plain": [
       "AGER_TYP                 685843\n",
       "ALTERSKATEGORIE_GROB       2881\n",
       "CJT_GESAMTTYP              4854\n",
       "GEBURTSJAHR              392318\n",
       "GFK_URLAUBERTYP            4854\n",
       "HEALTH_TYP               111196\n",
       "LP_LEBENSPHASE_FEIN       97632\n",
       "LP_LEBENSPHASE_GROB       94572\n",
       "LP_FAMILIE_FEIN           77792\n",
       "LP_FAMILIE_GROB           77792\n",
       "LP_STATUS_FEIN             4854\n",
       "LP_STATUS_GROB             4854\n",
       "NATIONALITAET_KZ         108315\n",
       "PRAEGENDE_JUGENDJAHRE    108164\n",
       "RETOURTYP_BK_S             4854\n",
       "SHOPPER_TYP              111196\n",
       "SOHO_KZ                   73499\n",
       "TITEL_KZ                 889061\n",
       "VERS_TYP                 111196\n",
       "ALTER_HH                 310267\n",
       "ANZ_PERSONEN              73499\n",
       "ANZ_TITEL                 73499\n",
       "HH_EINKOMMEN_SCORE        18348\n",
       "KK_KUNDENTYP             584612\n",
       "W_KEIT_KIND_HH           147988\n",
       "WOHNDAUER_2008            73499\n",
       "ANZ_HAUSHALTE_AKTIV       99611\n",
       "ANZ_HH_TITEL              97008\n",
       "GEBAEUDETYP               93148\n",
       "KONSUMNAEHE               73969\n",
       "                          ...  \n",
       "OST_WEST_KZ               93148\n",
       "WOHNLAGE                  93148\n",
       "CAMEO_DEUG_2015           99352\n",
       "CAMEO_DEU_2015            99352\n",
       "CAMEO_INTL_2015           99352\n",
       "KBA05_ANTG1              133324\n",
       "KBA05_ANTG2              133324\n",
       "KBA05_ANTG3              133324\n",
       "KBA05_ANTG4              133324\n",
       "KBA05_BAUMAX             476524\n",
       "KBA05_GBZ                133324\n",
       "BALLRAUM                  93740\n",
       "EWDICHTE                  93740\n",
       "INNENSTADT                93740\n",
       "GEBAEUDETYP_RASTER        93155\n",
       "KKK                      158064\n",
       "MOBI_REGIO               133324\n",
       "ONLINE_AFFINITAET          4854\n",
       "REGIOTYP                 158064\n",
       "KBA13_ANZAHL_PKW         105800\n",
       "PLZ8_ANTG1               116515\n",
       "PLZ8_ANTG2               116515\n",
       "PLZ8_ANTG3               116515\n",
       "PLZ8_ANTG4               116515\n",
       "PLZ8_BAUMAX              116515\n",
       "PLZ8_HHZ                 116515\n",
       "PLZ8_GBZ                 116515\n",
       "ARBEIT                    97375\n",
       "ORTSGR_KLS9               97274\n",
       "RELAT_AB                  97375\n",
       "Length: 61, dtype: int64"
      ]
     },
     "execution_count": 16,
     "metadata": {},
     "output_type": "execute_result"
    }
   ],
   "source": [
    "# Missing data per column after replacing encoded NaN values\n",
    "missing_data_columns = azdias.isnull().sum()[azdias.isnull().sum() != 0]\n",
    "missing_data_columns"
   ]
  },
  {
   "cell_type": "code",
   "execution_count": 17,
   "metadata": {},
   "outputs": [
    {
     "data": {
      "text/html": [
       "<div>\n",
       "<style>\n",
       "    .dataframe thead tr:only-child th {\n",
       "        text-align: right;\n",
       "    }\n",
       "\n",
       "    .dataframe thead th {\n",
       "        text-align: left;\n",
       "    }\n",
       "\n",
       "    .dataframe tbody tr th {\n",
       "        vertical-align: top;\n",
       "    }\n",
       "</style>\n",
       "<table border=\"1\" class=\"dataframe\">\n",
       "  <thead>\n",
       "    <tr style=\"text-align: right;\">\n",
       "      <th></th>\n",
       "      <th>percentage</th>\n",
       "      <th>total</th>\n",
       "    </tr>\n",
       "  </thead>\n",
       "  <tbody>\n",
       "    <tr>\n",
       "      <th>TITEL_KZ</th>\n",
       "      <td>99.76</td>\n",
       "      <td>889061</td>\n",
       "    </tr>\n",
       "    <tr>\n",
       "      <th>AGER_TYP</th>\n",
       "      <td>76.96</td>\n",
       "      <td>685843</td>\n",
       "    </tr>\n",
       "    <tr>\n",
       "      <th>KK_KUNDENTYP</th>\n",
       "      <td>65.60</td>\n",
       "      <td>584612</td>\n",
       "    </tr>\n",
       "    <tr>\n",
       "      <th>KBA05_BAUMAX</th>\n",
       "      <td>53.47</td>\n",
       "      <td>476524</td>\n",
       "    </tr>\n",
       "    <tr>\n",
       "      <th>GEBURTSJAHR</th>\n",
       "      <td>44.02</td>\n",
       "      <td>392318</td>\n",
       "    </tr>\n",
       "    <tr>\n",
       "      <th>ALTER_HH</th>\n",
       "      <td>34.81</td>\n",
       "      <td>310267</td>\n",
       "    </tr>\n",
       "    <tr>\n",
       "      <th>KKK</th>\n",
       "      <td>17.74</td>\n",
       "      <td>158064</td>\n",
       "    </tr>\n",
       "    <tr>\n",
       "      <th>REGIOTYP</th>\n",
       "      <td>17.74</td>\n",
       "      <td>158064</td>\n",
       "    </tr>\n",
       "    <tr>\n",
       "      <th>W_KEIT_KIND_HH</th>\n",
       "      <td>16.61</td>\n",
       "      <td>147988</td>\n",
       "    </tr>\n",
       "    <tr>\n",
       "      <th>KBA05_ANTG3</th>\n",
       "      <td>14.96</td>\n",
       "      <td>133324</td>\n",
       "    </tr>\n",
       "    <tr>\n",
       "      <th>KBA05_ANTG1</th>\n",
       "      <td>14.96</td>\n",
       "      <td>133324</td>\n",
       "    </tr>\n",
       "    <tr>\n",
       "      <th>KBA05_ANTG2</th>\n",
       "      <td>14.96</td>\n",
       "      <td>133324</td>\n",
       "    </tr>\n",
       "    <tr>\n",
       "      <th>KBA05_GBZ</th>\n",
       "      <td>14.96</td>\n",
       "      <td>133324</td>\n",
       "    </tr>\n",
       "    <tr>\n",
       "      <th>KBA05_ANTG4</th>\n",
       "      <td>14.96</td>\n",
       "      <td>133324</td>\n",
       "    </tr>\n",
       "    <tr>\n",
       "      <th>MOBI_REGIO</th>\n",
       "      <td>14.96</td>\n",
       "      <td>133324</td>\n",
       "    </tr>\n",
       "    <tr>\n",
       "      <th>PLZ8_ANTG2</th>\n",
       "      <td>13.07</td>\n",
       "      <td>116515</td>\n",
       "    </tr>\n",
       "    <tr>\n",
       "      <th>PLZ8_ANTG1</th>\n",
       "      <td>13.07</td>\n",
       "      <td>116515</td>\n",
       "    </tr>\n",
       "    <tr>\n",
       "      <th>PLZ8_ANTG3</th>\n",
       "      <td>13.07</td>\n",
       "      <td>116515</td>\n",
       "    </tr>\n",
       "    <tr>\n",
       "      <th>PLZ8_ANTG4</th>\n",
       "      <td>13.07</td>\n",
       "      <td>116515</td>\n",
       "    </tr>\n",
       "    <tr>\n",
       "      <th>PLZ8_BAUMAX</th>\n",
       "      <td>13.07</td>\n",
       "      <td>116515</td>\n",
       "    </tr>\n",
       "    <tr>\n",
       "      <th>PLZ8_HHZ</th>\n",
       "      <td>13.07</td>\n",
       "      <td>116515</td>\n",
       "    </tr>\n",
       "    <tr>\n",
       "      <th>PLZ8_GBZ</th>\n",
       "      <td>13.07</td>\n",
       "      <td>116515</td>\n",
       "    </tr>\n",
       "    <tr>\n",
       "      <th>VERS_TYP</th>\n",
       "      <td>12.48</td>\n",
       "      <td>111196</td>\n",
       "    </tr>\n",
       "    <tr>\n",
       "      <th>SHOPPER_TYP</th>\n",
       "      <td>12.48</td>\n",
       "      <td>111196</td>\n",
       "    </tr>\n",
       "    <tr>\n",
       "      <th>HEALTH_TYP</th>\n",
       "      <td>12.48</td>\n",
       "      <td>111196</td>\n",
       "    </tr>\n",
       "    <tr>\n",
       "      <th>NATIONALITAET_KZ</th>\n",
       "      <td>12.15</td>\n",
       "      <td>108315</td>\n",
       "    </tr>\n",
       "    <tr>\n",
       "      <th>PRAEGENDE_JUGENDJAHRE</th>\n",
       "      <td>12.14</td>\n",
       "      <td>108164</td>\n",
       "    </tr>\n",
       "    <tr>\n",
       "      <th>KBA13_ANZAHL_PKW</th>\n",
       "      <td>11.87</td>\n",
       "      <td>105800</td>\n",
       "    </tr>\n",
       "    <tr>\n",
       "      <th>ANZ_HAUSHALTE_AKTIV</th>\n",
       "      <td>11.18</td>\n",
       "      <td>99611</td>\n",
       "    </tr>\n",
       "    <tr>\n",
       "      <th>CAMEO_INTL_2015</th>\n",
       "      <td>11.15</td>\n",
       "      <td>99352</td>\n",
       "    </tr>\n",
       "    <tr>\n",
       "      <th>...</th>\n",
       "      <td>...</td>\n",
       "      <td>...</td>\n",
       "    </tr>\n",
       "    <tr>\n",
       "      <th>CAMEO_DEU_2015</th>\n",
       "      <td>11.15</td>\n",
       "      <td>99352</td>\n",
       "    </tr>\n",
       "    <tr>\n",
       "      <th>LP_LEBENSPHASE_FEIN</th>\n",
       "      <td>10.95</td>\n",
       "      <td>97632</td>\n",
       "    </tr>\n",
       "    <tr>\n",
       "      <th>ARBEIT</th>\n",
       "      <td>10.93</td>\n",
       "      <td>97375</td>\n",
       "    </tr>\n",
       "    <tr>\n",
       "      <th>RELAT_AB</th>\n",
       "      <td>10.93</td>\n",
       "      <td>97375</td>\n",
       "    </tr>\n",
       "    <tr>\n",
       "      <th>ORTSGR_KLS9</th>\n",
       "      <td>10.91</td>\n",
       "      <td>97274</td>\n",
       "    </tr>\n",
       "    <tr>\n",
       "      <th>ANZ_HH_TITEL</th>\n",
       "      <td>10.88</td>\n",
       "      <td>97008</td>\n",
       "    </tr>\n",
       "    <tr>\n",
       "      <th>LP_LEBENSPHASE_GROB</th>\n",
       "      <td>10.61</td>\n",
       "      <td>94572</td>\n",
       "    </tr>\n",
       "    <tr>\n",
       "      <th>INNENSTADT</th>\n",
       "      <td>10.52</td>\n",
       "      <td>93740</td>\n",
       "    </tr>\n",
       "    <tr>\n",
       "      <th>BALLRAUM</th>\n",
       "      <td>10.52</td>\n",
       "      <td>93740</td>\n",
       "    </tr>\n",
       "    <tr>\n",
       "      <th>EWDICHTE</th>\n",
       "      <td>10.52</td>\n",
       "      <td>93740</td>\n",
       "    </tr>\n",
       "    <tr>\n",
       "      <th>WOHNLAGE</th>\n",
       "      <td>10.45</td>\n",
       "      <td>93148</td>\n",
       "    </tr>\n",
       "    <tr>\n",
       "      <th>OST_WEST_KZ</th>\n",
       "      <td>10.45</td>\n",
       "      <td>93148</td>\n",
       "    </tr>\n",
       "    <tr>\n",
       "      <th>GEBAEUDETYP_RASTER</th>\n",
       "      <td>10.45</td>\n",
       "      <td>93155</td>\n",
       "    </tr>\n",
       "    <tr>\n",
       "      <th>MIN_GEBAEUDEJAHR</th>\n",
       "      <td>10.45</td>\n",
       "      <td>93148</td>\n",
       "    </tr>\n",
       "    <tr>\n",
       "      <th>GEBAEUDETYP</th>\n",
       "      <td>10.45</td>\n",
       "      <td>93148</td>\n",
       "    </tr>\n",
       "    <tr>\n",
       "      <th>LP_FAMILIE_GROB</th>\n",
       "      <td>8.73</td>\n",
       "      <td>77792</td>\n",
       "    </tr>\n",
       "    <tr>\n",
       "      <th>LP_FAMILIE_FEIN</th>\n",
       "      <td>8.73</td>\n",
       "      <td>77792</td>\n",
       "    </tr>\n",
       "    <tr>\n",
       "      <th>KONSUMNAEHE</th>\n",
       "      <td>8.30</td>\n",
       "      <td>73969</td>\n",
       "    </tr>\n",
       "    <tr>\n",
       "      <th>WOHNDAUER_2008</th>\n",
       "      <td>8.25</td>\n",
       "      <td>73499</td>\n",
       "    </tr>\n",
       "    <tr>\n",
       "      <th>ANZ_TITEL</th>\n",
       "      <td>8.25</td>\n",
       "      <td>73499</td>\n",
       "    </tr>\n",
       "    <tr>\n",
       "      <th>ANZ_PERSONEN</th>\n",
       "      <td>8.25</td>\n",
       "      <td>73499</td>\n",
       "    </tr>\n",
       "    <tr>\n",
       "      <th>SOHO_KZ</th>\n",
       "      <td>8.25</td>\n",
       "      <td>73499</td>\n",
       "    </tr>\n",
       "    <tr>\n",
       "      <th>HH_EINKOMMEN_SCORE</th>\n",
       "      <td>2.06</td>\n",
       "      <td>18348</td>\n",
       "    </tr>\n",
       "    <tr>\n",
       "      <th>RETOURTYP_BK_S</th>\n",
       "      <td>0.54</td>\n",
       "      <td>4854</td>\n",
       "    </tr>\n",
       "    <tr>\n",
       "      <th>LP_STATUS_GROB</th>\n",
       "      <td>0.54</td>\n",
       "      <td>4854</td>\n",
       "    </tr>\n",
       "    <tr>\n",
       "      <th>LP_STATUS_FEIN</th>\n",
       "      <td>0.54</td>\n",
       "      <td>4854</td>\n",
       "    </tr>\n",
       "    <tr>\n",
       "      <th>GFK_URLAUBERTYP</th>\n",
       "      <td>0.54</td>\n",
       "      <td>4854</td>\n",
       "    </tr>\n",
       "    <tr>\n",
       "      <th>CJT_GESAMTTYP</th>\n",
       "      <td>0.54</td>\n",
       "      <td>4854</td>\n",
       "    </tr>\n",
       "    <tr>\n",
       "      <th>ONLINE_AFFINITAET</th>\n",
       "      <td>0.54</td>\n",
       "      <td>4854</td>\n",
       "    </tr>\n",
       "    <tr>\n",
       "      <th>ALTERSKATEGORIE_GROB</th>\n",
       "      <td>0.32</td>\n",
       "      <td>2881</td>\n",
       "    </tr>\n",
       "  </tbody>\n",
       "</table>\n",
       "<p>61 rows × 2 columns</p>\n",
       "</div>"
      ],
      "text/plain": [
       "                       percentage   total\n",
       "TITEL_KZ                    99.76  889061\n",
       "AGER_TYP                    76.96  685843\n",
       "KK_KUNDENTYP                65.60  584612\n",
       "KBA05_BAUMAX                53.47  476524\n",
       "GEBURTSJAHR                 44.02  392318\n",
       "ALTER_HH                    34.81  310267\n",
       "KKK                         17.74  158064\n",
       "REGIOTYP                    17.74  158064\n",
       "W_KEIT_KIND_HH              16.61  147988\n",
       "KBA05_ANTG3                 14.96  133324\n",
       "KBA05_ANTG1                 14.96  133324\n",
       "KBA05_ANTG2                 14.96  133324\n",
       "KBA05_GBZ                   14.96  133324\n",
       "KBA05_ANTG4                 14.96  133324\n",
       "MOBI_REGIO                  14.96  133324\n",
       "PLZ8_ANTG2                  13.07  116515\n",
       "PLZ8_ANTG1                  13.07  116515\n",
       "PLZ8_ANTG3                  13.07  116515\n",
       "PLZ8_ANTG4                  13.07  116515\n",
       "PLZ8_BAUMAX                 13.07  116515\n",
       "PLZ8_HHZ                    13.07  116515\n",
       "PLZ8_GBZ                    13.07  116515\n",
       "VERS_TYP                    12.48  111196\n",
       "SHOPPER_TYP                 12.48  111196\n",
       "HEALTH_TYP                  12.48  111196\n",
       "NATIONALITAET_KZ            12.15  108315\n",
       "PRAEGENDE_JUGENDJAHRE       12.14  108164\n",
       "KBA13_ANZAHL_PKW            11.87  105800\n",
       "ANZ_HAUSHALTE_AKTIV         11.18   99611\n",
       "CAMEO_INTL_2015             11.15   99352\n",
       "...                           ...     ...\n",
       "CAMEO_DEU_2015              11.15   99352\n",
       "LP_LEBENSPHASE_FEIN         10.95   97632\n",
       "ARBEIT                      10.93   97375\n",
       "RELAT_AB                    10.93   97375\n",
       "ORTSGR_KLS9                 10.91   97274\n",
       "ANZ_HH_TITEL                10.88   97008\n",
       "LP_LEBENSPHASE_GROB         10.61   94572\n",
       "INNENSTADT                  10.52   93740\n",
       "BALLRAUM                    10.52   93740\n",
       "EWDICHTE                    10.52   93740\n",
       "WOHNLAGE                    10.45   93148\n",
       "OST_WEST_KZ                 10.45   93148\n",
       "GEBAEUDETYP_RASTER          10.45   93155\n",
       "MIN_GEBAEUDEJAHR            10.45   93148\n",
       "GEBAEUDETYP                 10.45   93148\n",
       "LP_FAMILIE_GROB              8.73   77792\n",
       "LP_FAMILIE_FEIN              8.73   77792\n",
       "KONSUMNAEHE                  8.30   73969\n",
       "WOHNDAUER_2008               8.25   73499\n",
       "ANZ_TITEL                    8.25   73499\n",
       "ANZ_PERSONEN                 8.25   73499\n",
       "SOHO_KZ                      8.25   73499\n",
       "HH_EINKOMMEN_SCORE           2.06   18348\n",
       "RETOURTYP_BK_S               0.54    4854\n",
       "LP_STATUS_GROB               0.54    4854\n",
       "LP_STATUS_FEIN               0.54    4854\n",
       "GFK_URLAUBERTYP              0.54    4854\n",
       "CJT_GESAMTTYP                0.54    4854\n",
       "ONLINE_AFFINITAET            0.54    4854\n",
       "ALTERSKATEGORIE_GROB         0.32    2881\n",
       "\n",
       "[61 rows x 2 columns]"
      ]
     },
     "execution_count": 17,
     "metadata": {},
     "output_type": "execute_result"
    }
   ],
   "source": [
    "# Lets get some useful stats like a percentage as well as total missing to get a sense of proportion of values missing\n",
    "missing_data_dict = {'total': missing_data_columns.values, 'percentage': np.round((missing_data_columns.values *100) / 891221, 2)}\n",
    "missing_columns_df = pd.DataFrame(data=missing_data_dict, index=missing_data_columns.index)\n",
    "missing_columns_df = missing_columns_df.sort_values(by='percentage', ascending=False)\n",
    "missing_columns_df"
   ]
  },
  {
   "cell_type": "code",
   "execution_count": 18,
   "metadata": {},
   "outputs": [
    {
     "data": {
      "image/png": "[encoded data removed]",
      "text/plain": [
       "<matplotlib.figure.Figure at 0x7f1b2b9a3e80>"
      ]
     },
     "metadata": {
      "needs_background": "light"
     },
     "output_type": "display_data"
    }
   ],
   "source": [
    "# Investigate patterns in the amount of missing data in each column.\n",
    "\n",
    "# Lets plot the distribution of totals of missing values\n",
    "plt.figure();\n",
    "plt.xlabel('Missing data totals')\n",
    "plt.ylabel('Number of occurances')\n",
    "plt.title('Distribution of missing data totals - columns')\n",
    "plt.hist(missing_columns_df['total']);"
   ]
  },
  {
   "cell_type": "code",
   "execution_count": 19,
   "metadata": {},
   "outputs": [
    {
     "data": {
      "image/png": "[encoded data removed]",
      "text/plain": [
       "<matplotlib.figure.Figure at 0x7f1b1f525550>"
      ]
     },
     "metadata": {
      "needs_background": "light"
     },
     "output_type": "display_data"
    },
    {
     "data": {
      "text/plain": [
       "<matplotlib.figure.Figure at 0x7f1b2b9720b8>"
      ]
     },
     "metadata": {},
     "output_type": "display_data"
    }
   ],
   "source": [
    "# Lets look at the same distribution in a different way, using a box and whisker plot\n",
    "dist_compare = pd.DataFrame()\n",
    "dist_compare['Missing data totals - columns'] = missing_columns_df['total']\n",
    "dist_compare.boxplot(figsize=(4,10), grid=True, widths=0.9)\n",
    "plt.figure();"
   ]
  },
  {
   "cell_type": "markdown",
   "metadata": {},
   "source": [
    "We can see this distribution seems to form 2 different groups, below 200,000 which has the bulk of the distribution, and a few values above 200,000. Lets consider 200,000 as the divison point between the normal values and outlier values, and lets look at each group individually to understand each better."
   ]
  },
  {
   "cell_type": "code",
   "execution_count": 20,
   "metadata": {},
   "outputs": [
    {
     "data": {
      "image/png": "[encoded data removed]",
      "text/plain": [
       "<matplotlib.figure.Figure at 0x7f1b1f4e9470>"
      ]
     },
     "metadata": {
      "needs_background": "light"
     },
     "output_type": "display_data"
    }
   ],
   "source": [
    "# Get outlier columns\n",
    "outliers_columns_df = missing_columns_df[missing_columns_df['total']>200000]\n",
    "# Look at the distribution of outlier columns\n",
    "plt.figure();\n",
    "plt.xlabel('Missing data totals')\n",
    "plt.ylabel('Number of occurances')\n",
    "plt.title('Distribution of missing data column totals - Outliers')\n",
    "plt.hist(outliers_columns_df['total']);"
   ]
  },
  {
   "cell_type": "code",
   "execution_count": 21,
   "metadata": {},
   "outputs": [
    {
     "data": {
      "image/png": "[encoded data removed]",
      "text/plain": [
       "<matplotlib.figure.Figure at 0x7f1b2b972588>"
      ]
     },
     "metadata": {
      "needs_background": "light"
     },
     "output_type": "display_data"
    }
   ],
   "source": [
    "# Get normal columns\n",
    "normal_columns_df = missing_columns_df[missing_columns_df['total']<200000]\n",
    "# Look at the distribution of normal columns\n",
    "plt.figure();\n",
    "plt.xlabel('Missing data totals')\n",
    "plt.ylabel('Number of occurances')\n",
    "plt.title('Distribution of missing data column totals - Normal')\n",
    "plt.hist(normal_columns_df['total']);"
   ]
  },
  {
   "cell_type": "code",
   "execution_count": 22,
   "metadata": {},
   "outputs": [
    {
     "data": {
      "text/html": [
       "<div>\n",
       "<style>\n",
       "    .dataframe thead tr:only-child th {\n",
       "        text-align: right;\n",
       "    }\n",
       "\n",
       "    .dataframe thead th {\n",
       "        text-align: left;\n",
       "    }\n",
       "\n",
       "    .dataframe tbody tr th {\n",
       "        vertical-align: top;\n",
       "    }\n",
       "</style>\n",
       "<table border=\"1\" class=\"dataframe\">\n",
       "  <thead>\n",
       "    <tr style=\"text-align: right;\">\n",
       "      <th></th>\n",
       "      <th>percentage</th>\n",
       "      <th>total</th>\n",
       "    </tr>\n",
       "  </thead>\n",
       "  <tbody>\n",
       "    <tr>\n",
       "      <th>TITEL_KZ</th>\n",
       "      <td>99.76</td>\n",
       "      <td>889061</td>\n",
       "    </tr>\n",
       "    <tr>\n",
       "      <th>AGER_TYP</th>\n",
       "      <td>76.96</td>\n",
       "      <td>685843</td>\n",
       "    </tr>\n",
       "    <tr>\n",
       "      <th>KK_KUNDENTYP</th>\n",
       "      <td>65.60</td>\n",
       "      <td>584612</td>\n",
       "    </tr>\n",
       "    <tr>\n",
       "      <th>KBA05_BAUMAX</th>\n",
       "      <td>53.47</td>\n",
       "      <td>476524</td>\n",
       "    </tr>\n",
       "    <tr>\n",
       "      <th>GEBURTSJAHR</th>\n",
       "      <td>44.02</td>\n",
       "      <td>392318</td>\n",
       "    </tr>\n",
       "    <tr>\n",
       "      <th>ALTER_HH</th>\n",
       "      <td>34.81</td>\n",
       "      <td>310267</td>\n",
       "    </tr>\n",
       "  </tbody>\n",
       "</table>\n",
       "</div>"
      ],
      "text/plain": [
       "              percentage   total\n",
       "TITEL_KZ           99.76  889061\n",
       "AGER_TYP           76.96  685843\n",
       "KK_KUNDENTYP       65.60  584612\n",
       "KBA05_BAUMAX       53.47  476524\n",
       "GEBURTSJAHR        44.02  392318\n",
       "ALTER_HH           34.81  310267"
      ]
     },
     "execution_count": 22,
     "metadata": {},
     "output_type": "execute_result"
    }
   ],
   "source": [
    "# List outlier columns\n",
    "outliers_columns_df"
   ]
  },
  {
   "cell_type": "code",
   "execution_count": 23,
   "metadata": {},
   "outputs": [
    {
     "name": "stdout",
     "output_type": "stream",
     "text": [
      "<class 'pandas.core.frame.DataFrame'>\n",
      "RangeIndex: 891221 entries, 0 to 891220\n",
      "Data columns (total 79 columns):\n",
      "ALTERSKATEGORIE_GROB     888340 non-null float64\n",
      "ANREDE_KZ                891221 non-null int64\n",
      "CJT_GESAMTTYP            886367 non-null float64\n",
      "FINANZ_MINIMALIST        891221 non-null int64\n",
      "FINANZ_SPARER            891221 non-null int64\n",
      "FINANZ_VORSORGER         891221 non-null int64\n",
      "FINANZ_ANLEGER           891221 non-null int64\n",
      "FINANZ_UNAUFFAELLIGER    891221 non-null int64\n",
      "FINANZ_HAUSBAUER         891221 non-null int64\n",
      "FINANZTYP                891221 non-null int64\n",
      "GFK_URLAUBERTYP          886367 non-null float64\n",
      "GREEN_AVANTGARDE         891221 non-null int64\n",
      "HEALTH_TYP               780025 non-null float64\n",
      "LP_LEBENSPHASE_FEIN      793589 non-null float64\n",
      "LP_LEBENSPHASE_GROB      796649 non-null float64\n",
      "LP_FAMILIE_FEIN          813429 non-null float64\n",
      "LP_FAMILIE_GROB          813429 non-null float64\n",
      "LP_STATUS_FEIN           886367 non-null float64\n",
      "LP_STATUS_GROB           886367 non-null float64\n",
      "NATIONALITAET_KZ         782906 non-null float64\n",
      "PRAEGENDE_JUGENDJAHRE    783057 non-null float64\n",
      "RETOURTYP_BK_S           886367 non-null float64\n",
      "SEMIO_SOZ                891221 non-null int64\n",
      "SEMIO_FAM                891221 non-null int64\n",
      "SEMIO_REL                891221 non-null int64\n",
      "SEMIO_MAT                891221 non-null int64\n",
      "SEMIO_VERT               891221 non-null int64\n",
      "SEMIO_LUST               891221 non-null int64\n",
      "SEMIO_ERL                891221 non-null int64\n",
      "SEMIO_KULT               891221 non-null int64\n",
      "SEMIO_RAT                891221 non-null int64\n",
      "SEMIO_KRIT               891221 non-null int64\n",
      "SEMIO_DOM                891221 non-null int64\n",
      "SEMIO_KAEM               891221 non-null int64\n",
      "SEMIO_PFLICHT            891221 non-null int64\n",
      "SEMIO_TRADV              891221 non-null int64\n",
      "SHOPPER_TYP              780025 non-null float64\n",
      "SOHO_KZ                  817722 non-null float64\n",
      "VERS_TYP                 780025 non-null float64\n",
      "ZABEOTYP                 891221 non-null int64\n",
      "ANZ_PERSONEN             817722 non-null float64\n",
      "ANZ_TITEL                817722 non-null float64\n",
      "HH_EINKOMMEN_SCORE       872873 non-null float64\n",
      "W_KEIT_KIND_HH           743233 non-null float64\n",
      "WOHNDAUER_2008           817722 non-null float64\n",
      "ANZ_HAUSHALTE_AKTIV      791610 non-null float64\n",
      "ANZ_HH_TITEL             794213 non-null float64\n",
      "GEBAEUDETYP              798073 non-null float64\n",
      "KONSUMNAEHE              817252 non-null float64\n",
      "MIN_GEBAEUDEJAHR         798073 non-null float64\n",
      "OST_WEST_KZ              798073 non-null object\n",
      "WOHNLAGE                 798073 non-null float64\n",
      "CAMEO_DEUG_2015          791869 non-null object\n",
      "CAMEO_DEU_2015           791869 non-null object\n",
      "CAMEO_INTL_2015          791869 non-null object\n",
      "KBA05_ANTG1              757897 non-null float64\n",
      "KBA05_ANTG2              757897 non-null float64\n",
      "KBA05_ANTG3              757897 non-null float64\n",
      "KBA05_ANTG4              757897 non-null float64\n",
      "KBA05_GBZ                757897 non-null float64\n",
      "BALLRAUM                 797481 non-null float64\n",
      "EWDICHTE                 797481 non-null float64\n",
      "INNENSTADT               797481 non-null float64\n",
      "GEBAEUDETYP_RASTER       798066 non-null float64\n",
      "KKK                      733157 non-null float64\n",
      "MOBI_REGIO               757897 non-null float64\n",
      "ONLINE_AFFINITAET        886367 non-null float64\n",
      "REGIOTYP                 733157 non-null float64\n",
      "KBA13_ANZAHL_PKW         785421 non-null float64\n",
      "PLZ8_ANTG1               774706 non-null float64\n",
      "PLZ8_ANTG2               774706 non-null float64\n",
      "PLZ8_ANTG3               774706 non-null float64\n",
      "PLZ8_ANTG4               774706 non-null float64\n",
      "PLZ8_BAUMAX              774706 non-null float64\n",
      "PLZ8_HHZ                 774706 non-null float64\n",
      "PLZ8_GBZ                 774706 non-null float64\n",
      "ARBEIT                   793846 non-null float64\n",
      "ORTSGR_KLS9              793947 non-null float64\n",
      "RELAT_AB                 793846 non-null float64\n",
      "dtypes: float64(51), int64(24), object(4)\n",
      "memory usage: 537.2+ MB\n"
     ]
    }
   ],
   "source": [
    "# Remove the outlier columns from the dataset. (You'll perform other data\n",
    "# engineering tasks such as re-encoding and imputation later.)\n",
    "azdias = azdias.drop(['TITEL_KZ','AGER_TYP','KK_KUNDENTYP','KBA05_BAUMAX','GEBURTSJAHR', 'GEBURTSJAHR', 'ALTER_HH'], axis=1)\n",
    "azdias.info()"
   ]
  },
  {
   "cell_type": "markdown",
   "metadata": {},
   "source": [
    "#### Discussion 1.1.2: Assess Missing Data in Each Column\n",
    "\n",
    "We can see in the histogram above that the bulk of the distribution of missing data totals is of values less than 200,000. In other words, between 0 and 200,000 we could consider as being the normal range of missing data. \n",
    "\n",
    "So I will consider outlier columns as those who have missing data of more than 200,000.\n",
    "\n",
    "The general patterns I observed in the missing data totals are:\n",
    "\n",
    "- 0 - 200,000 missing data: we have 2 groups, 8 occurances with values under 20,000, and a larger group of values from around 70,000 to 160,000 missing data values\n",
    "- 200,000+ missing data: we have 4 single occurances with different totals\n",
    "\n",
    "I removed the following columns from the dataset that had missing data totals of more than 200,000\n",
    "\n",
    "- TITEL_KZ\n",
    "- AGER_TYP\n",
    "- KK_KUNDENTYP\n",
    "- KBA05_BAUMAX\n",
    "- GEBURTSJAHR\n",
    "- ALTER_HH\t"
   ]
  },
  {
   "cell_type": "markdown",
   "metadata": {},
   "source": [
    "#### Step 1.1.3: Assess Missing Data in Each Row\n",
    "\n",
    "Now I will perform a similar assessment for the rows of the dataset. How much data is missing in each row? As with the columns, might see some groups of points that have a very different numbers of missing values. I will divide the data into two subsets: one for data points that are above some threshold for missing values, and a second subset for points below that threshold.\n",
    "\n",
    "In order to know what to do with the outlier rows, we should see if the distribution of data values on columns that are not missing data (or are missing very little data) are similar or different between the two groups. I will select at least five of these columns and compare the distribution of values.\n",
    "\n",
    "Depending on what I observe in my comparison, this will have implications on how I approach my conclusions later in the analysis. If the distributions of non-missing features look similar between the data with many missing values and the data with few or no missing values, then we could argue that simply dropping those points from the analysis won't present a major issue. On the other hand, if the data with many missing values looks very different from the data with few or no missing values, then we should make a note on those data as special. We'll revisit these data later on. **Either way, I will continue my analysis for now using just the subset of the data with few or no missing values.**"
   ]
  },
  {
   "cell_type": "code",
   "execution_count": 24,
   "metadata": {},
   "outputs": [],
   "source": [
    "# How much data is missing in each row of the dataset?\n",
    "\n",
    "# Calculate total missing for each row\n",
    "missing_data_rows = azdias.isnull().sum(axis = 1)\n",
    "# Create dataframe to plot total missing\n",
    "missing_data_rows_dict = {'total': missing_data_rows.values}\n",
    "missing_rows_df = pd.DataFrame(data=missing_data_rows_dict, index=missing_data_rows.index)"
   ]
  },
  {
   "cell_type": "code",
   "execution_count": 25,
   "metadata": {},
   "outputs": [
    {
     "data": {
      "image/png": "[encoded data removed]",
      "text/plain": [
       "<matplotlib.figure.Figure at 0x7f1b1f434358>"
      ]
     },
     "metadata": {
      "needs_background": "light"
     },
     "output_type": "display_data"
    }
   ],
   "source": [
    "# Lets plot the distribution of totals of missing values for rows\n",
    "plt.figure();\n",
    "plt.xlabel('Missing data totals - rows')\n",
    "plt.ylabel('Number of occurances')\n",
    "plt.title('Distribution of missing data totals - rows')\n",
    "plt.hist(missing_rows_df['total']);"
   ]
  },
  {
   "cell_type": "markdown",
   "metadata": {},
   "source": [
    "Based on my observations above, I will choose the dividing point between the two subsets of normal & outlier values\n",
    "as 25 missing values."
   ]
  },
  {
   "cell_type": "code",
   "execution_count": 26,
   "metadata": {},
   "outputs": [],
   "source": [
    "# Write code to divide the data into two subsets based on the number of missing\n",
    "# values in each row.\n",
    "\n",
    "# Get normal rows indexes\n",
    "normal_rows_indexes = azdias.isnull().sum(axis = 1)[azdias.isnull().sum(axis = 1) <= 25]\n",
    "\n",
    "# Get outlier rows indexes\n",
    "outlier_rows_indexes = azdias.isnull().sum(axis = 1)[azdias.isnull().sum(axis = 1) > 25]\n",
    "    \n",
    "# Get normal rows data subset\n",
    "normal_rows_df = azdias.drop(outlier_rows_indexes.index)\n",
    "\n",
    "# Get outlier rows data subset\n",
    "outlier_rows_df = azdias.drop(normal_rows_indexes.index)"
   ]
  },
  {
   "cell_type": "code",
   "execution_count": 27,
   "metadata": {},
   "outputs": [
    {
     "data": {
      "image/png": "[encoded data removed]",
      "text/plain": [
       "<matplotlib.figure.Figure at 0x7f1b1f45e438>"
      ]
     },
     "metadata": {
      "needs_background": "light"
     },
     "output_type": "display_data"
    }
   ],
   "source": [
    "# Compare the distribution of values for at least five columns where there are\n",
    "# no or few missing values, between the two subsets.\n",
    "\n",
    "def compare_columns_nans(column, normal_df, outliers_df):\n",
    "    \n",
    "    # Plot comparison histograms\n",
    "    fig = plt.figure(figsize=(16,5))\n",
    "    plot1 = fig.add_subplot(121)\n",
    "    plot1.title.set_text('Normal rows')\n",
    "    sns.countplot(normal_df[column])\n",
    "\n",
    "    plot2 = fig.add_subplot(122)\n",
    "    plot2.title.set_text('Outlier rows')\n",
    "    sns.countplot(outliers_df[column])\n",
    "\n",
    "    fig.suptitle(column)\n",
    "    plt.show()\n",
    "\n",
    "# Check first random column\n",
    "compare_columns_nans('ALTERSKATEGORIE_GROB', normal_rows_df, outlier_rows_df)"
   ]
  },
  {
   "cell_type": "code",
   "execution_count": 28,
   "metadata": {},
   "outputs": [
    {
     "data": {
      "image/png": "[encoded data removed]",
      "text/plain": [
       "<matplotlib.figure.Figure at 0x7f1b2b8b7e48>"
      ]
     },
     "metadata": {
      "needs_background": "light"
     },
     "output_type": "display_data"
    }
   ],
   "source": [
    "# Check second random column\n",
    "compare_columns_nans('FINANZ_UNAUFFAELLIGER', normal_rows_df, outlier_rows_df)"
   ]
  },
  {
   "cell_type": "code",
   "execution_count": 29,
   "metadata": {},
   "outputs": [
    {
     "data": {
      "image/png": "[encoded data removed]",
      "text/plain": [
       "<matplotlib.figure.Figure at 0x7f1b0732cc18>"
      ]
     },
     "metadata": {
      "needs_background": "light"
     },
     "output_type": "display_data"
    }
   ],
   "source": [
    "# Check third random column\n",
    "compare_columns_nans('LP_FAMILIE_FEIN', normal_rows_df, outlier_rows_df)"
   ]
  },
  {
   "cell_type": "code",
   "execution_count": 30,
   "metadata": {},
   "outputs": [
    {
     "data": {
      "image/png": "[encoded data removed]",
      "text/plain": [
       "<matplotlib.figure.Figure at 0x7f1b1f3ef198>"
      ]
     },
     "metadata": {
      "needs_background": "light"
     },
     "output_type": "display_data"
    }
   ],
   "source": [
    "# Check fouth random column\n",
    "compare_columns_nans('SEMIO_REL', normal_rows_df, outlier_rows_df)"
   ]
  },
  {
   "cell_type": "code",
   "execution_count": 31,
   "metadata": {},
   "outputs": [
    {
     "data": {
      "image/png": "[encoded data removed]",
      "text/plain": [
       "<matplotlib.figure.Figure at 0x7f1b072a3b70>"
      ]
     },
     "metadata": {
      "needs_background": "light"
     },
     "output_type": "display_data"
    }
   ],
   "source": [
    "# Check fifth random column\n",
    "compare_columns_nans('ONLINE_AFFINITAET', normal_rows_df, outlier_rows_df)"
   ]
  },
  {
   "cell_type": "code",
   "execution_count": 32,
   "metadata": {},
   "outputs": [
    {
     "name": "stdout",
     "output_type": "stream",
     "text": [
      "<class 'pandas.core.frame.DataFrame'>\n",
      "Int64Index: 797961 entries, 1 to 891220\n",
      "Data columns (total 79 columns):\n",
      "ALTERSKATEGORIE_GROB     795160 non-null float64\n",
      "ANREDE_KZ                797961 non-null int64\n",
      "CJT_GESAMTTYP            793248 non-null float64\n",
      "FINANZ_MINIMALIST        797961 non-null int64\n",
      "FINANZ_SPARER            797961 non-null int64\n",
      "FINANZ_VORSORGER         797961 non-null int64\n",
      "FINANZ_ANLEGER           797961 non-null int64\n",
      "FINANZ_UNAUFFAELLIGER    797961 non-null int64\n",
      "FINANZ_HAUSBAUER         797961 non-null int64\n",
      "FINANZTYP                797961 non-null int64\n",
      "GFK_URLAUBERTYP          793248 non-null float64\n",
      "GREEN_AVANTGARDE         797961 non-null int64\n",
      "HEALTH_TYP               761281 non-null float64\n",
      "LP_LEBENSPHASE_FEIN      747828 non-null float64\n",
      "LP_LEBENSPHASE_GROB      750714 non-null float64\n",
      "LP_FAMILIE_FEIN          766564 non-null float64\n",
      "LP_FAMILIE_GROB          766564 non-null float64\n",
      "LP_STATUS_FEIN           793248 non-null float64\n",
      "LP_STATUS_GROB           793248 non-null float64\n",
      "NATIONALITAET_KZ         764082 non-null float64\n",
      "PRAEGENDE_JUGENDJAHRE    769252 non-null float64\n",
      "RETOURTYP_BK_S           793248 non-null float64\n",
      "SEMIO_SOZ                797961 non-null int64\n",
      "SEMIO_FAM                797961 non-null int64\n",
      "SEMIO_REL                797961 non-null int64\n",
      "SEMIO_MAT                797961 non-null int64\n",
      "SEMIO_VERT               797961 non-null int64\n",
      "SEMIO_LUST               797961 non-null int64\n",
      "SEMIO_ERL                797961 non-null int64\n",
      "SEMIO_KULT               797961 non-null int64\n",
      "SEMIO_RAT                797961 non-null int64\n",
      "SEMIO_KRIT               797961 non-null int64\n",
      "SEMIO_DOM                797961 non-null int64\n",
      "SEMIO_KAEM               797961 non-null int64\n",
      "SEMIO_PFLICHT            797961 non-null int64\n",
      "SEMIO_TRADV              797961 non-null int64\n",
      "SHOPPER_TYP              761281 non-null float64\n",
      "SOHO_KZ                  797961 non-null float64\n",
      "VERS_TYP                 761281 non-null float64\n",
      "ZABEOTYP                 797961 non-null int64\n",
      "ANZ_PERSONEN             797961 non-null float64\n",
      "ANZ_TITEL                797961 non-null float64\n",
      "HH_EINKOMMEN_SCORE       797961 non-null float64\n",
      "W_KEIT_KIND_HH           738718 non-null float64\n",
      "WOHNDAUER_2008           797961 non-null float64\n",
      "ANZ_HAUSHALTE_AKTIV      791535 non-null float64\n",
      "ANZ_HH_TITEL             794138 non-null float64\n",
      "GEBAEUDETYP              797961 non-null float64\n",
      "KONSUMNAEHE              797891 non-null float64\n",
      "MIN_GEBAEUDEJAHR         797961 non-null float64\n",
      "OST_WEST_KZ              797961 non-null object\n",
      "WOHNLAGE                 797961 non-null float64\n",
      "CAMEO_DEUG_2015          791840 non-null object\n",
      "CAMEO_DEU_2015           791840 non-null object\n",
      "CAMEO_INTL_2015          791840 non-null object\n",
      "KBA05_ANTG1              757897 non-null float64\n",
      "KBA05_ANTG2              757897 non-null float64\n",
      "KBA05_ANTG3              757897 non-null float64\n",
      "KBA05_ANTG4              757897 non-null float64\n",
      "KBA05_GBZ                757897 non-null float64\n",
      "BALLRAUM                 797369 non-null float64\n",
      "EWDICHTE                 797369 non-null float64\n",
      "INNENSTADT               797369 non-null float64\n",
      "GEBAEUDETYP_RASTER       797954 non-null float64\n",
      "KKK                      733146 non-null float64\n",
      "MOBI_REGIO               757897 non-null float64\n",
      "ONLINE_AFFINITAET        793248 non-null float64\n",
      "REGIOTYP                 733146 non-null float64\n",
      "KBA13_ANZAHL_PKW         785412 non-null float64\n",
      "PLZ8_ANTG1               774706 non-null float64\n",
      "PLZ8_ANTG2               774706 non-null float64\n",
      "PLZ8_ANTG3               774706 non-null float64\n",
      "PLZ8_ANTG4               774706 non-null float64\n",
      "PLZ8_BAUMAX              774706 non-null float64\n",
      "PLZ8_HHZ                 774706 non-null float64\n",
      "PLZ8_GBZ                 774706 non-null float64\n",
      "ARBEIT                   793734 non-null float64\n",
      "ORTSGR_KLS9              793835 non-null float64\n",
      "RELAT_AB                 793734 non-null float64\n",
      "dtypes: float64(51), int64(24), object(4)\n",
      "memory usage: 487.0+ MB\n"
     ]
    }
   ],
   "source": [
    "# Drop outlier rows with more than 25 missing values per row\n",
    "azdias = azdias.drop(outlier_rows_indexes.index, axis=0)\n",
    "azdias.info()"
   ]
  },
  {
   "cell_type": "markdown",
   "metadata": {},
   "source": [
    "#### Discussion 1.1.3: Assess Missing Data in Each Row\n",
    "\n",
    "From the 5 columns I examined, 2 columns had similar distributions of values between the normal & outliers subsets (ALTERSKATEGORIE_GROB and LP_FAMILIE_FEIN), whereas 3 columns had very different distributions between the two subsets (FINANZ_UNAUFFAELLIGER, SEMIO_REL, ONLINE_AFFINITAET). \n",
    "\n",
    "Because 3 out of 5 columns have different distributions, this suggests that the outliers subset may well have unique features and characteristics.\n",
    "\n",
    "For now we will take note of this, but continue by excluding the outlier subset."
   ]
  },
  {
   "cell_type": "markdown",
   "metadata": {},
   "source": [
    "### Step 1.2: Select and Re-Encode Features\n",
    "\n",
    "Checking for missing data isn't the only way in which we can prepare a dataset for analysis. Since the unsupervised learning techniques to be used will only work on data that is encoded numerically, we need to make a few encoding changes or additional assumptions to be able to make progress. In addition, while almost all of the values in the dataset are encoded using numbers, not all of them represent numeric values. \n",
    "\n",
    "In the first two parts of this sub-step, I will perform an investigation of the categorical and mixed-type features and make a decision on each of them, whether I will keep, drop, or re-encode each. Then, in the last part, I will create a new data frame with only the selected and engineered columns."
   ]
  },
  {
   "cell_type": "code",
   "execution_count": 33,
   "metadata": {},
   "outputs": [
    {
     "data": {
      "text/plain": [
       "ordinal        49\n",
       "categorical    18\n",
       "numeric         6\n",
       "mixed           6\n",
       "Name: type, dtype: int64"
      ]
     },
     "execution_count": 33,
     "metadata": {},
     "output_type": "execute_result"
    }
   ],
   "source": [
    "# Extract columns removed earlier in cleaning process\n",
    "feat_removed = feat_info.loc[~feat_info['attribute'].isin(['TITEL_KZ','AGER_TYP','KK_KUNDENTYP','KBA05_BAUMAX','GEBURTSJAHR','ALTER_HH'])]\n",
    "# How many features are there remaining of each data type?\n",
    "feat_removed['type'].value_counts()"
   ]
  },
  {
   "cell_type": "markdown",
   "metadata": {},
   "source": [
    "#### Step 1.2.1: Re-Encode Categorical Features\n",
    "\n",
    "For categorical data, you would ordinarily need to encode the levels as dummy variables. Depending on the number of categories, I will perform one of the following:\n",
    "- For binary (two-level) categoricals that take numeric values, keep them without needing to do anything.\n",
    "- There is one binary variable that takes on non-numeric values. For this one, I need to re-encode the values as numbers or create a dummy variable.\n",
    "- For multi-level categoricals (three or more values), I could choose to encode the values using multiple dummy variables (e.g. via [OneHotEncoder](http://scikit-learn.org/stable/modules/generated/sklearn.preprocessing.OneHotEncoder.html)), or (to keep things straightforward) just drop them from the analysis. "
   ]
  },
  {
   "cell_type": "code",
   "execution_count": 34,
   "metadata": {},
   "outputs": [
    {
     "data": {
      "text/plain": [
       "{'ANREDE_KZ': array([2, 1]),\n",
       " 'CJT_GESAMTTYP': array([  5.,   3.,   2.,   4.,   1.,   6.,  nan]),\n",
       " 'FINANZTYP': array([1, 6, 5, 2, 4, 3]),\n",
       " 'GFK_URLAUBERTYP': array([ 10.,   1.,   5.,  12.,   9.,   3.,   8.,  11.,   4.,   2.,   7.,\n",
       "          6.,  nan]),\n",
       " 'GREEN_AVANTGARDE': array([0, 1]),\n",
       " 'LP_FAMILIE_FEIN': array([  5.,   1.,  nan,  10.,   2.,   7.,  11.,   8.,   4.,   6.,   9.,\n",
       "          3.]),\n",
       " 'LP_FAMILIE_GROB': array([  3.,   1.,  nan,   5.,   2.,   4.]),\n",
       " 'LP_STATUS_FEIN': array([  2.,   3.,   9.,   4.,   1.,  10.,   5.,   8.,   6.,   7.,  nan]),\n",
       " 'LP_STATUS_GROB': array([  1.,   2.,   4.,   5.,   3.,  nan]),\n",
       " 'NATIONALITAET_KZ': array([  1.,   3.,   2.,  nan]),\n",
       " 'SHOPPER_TYP': array([  3.,   2.,   1.,   0.,  nan]),\n",
       " 'SOHO_KZ': array([ 1.,  0.]),\n",
       " 'VERS_TYP': array([  2.,   1.,  nan]),\n",
       " 'ZABEOTYP': array([5, 3, 4, 1, 6, 2]),\n",
       " 'GEBAEUDETYP': array([ 8.,  1.,  3.,  2.,  6.,  4.,  5.]),\n",
       " 'OST_WEST_KZ': array(['W', 'O'], dtype=object),\n",
       " 'CAMEO_DEUG_2015': array(['8', '4', '2', '6', '1', '9', '5', '7', nan, '3'], dtype=object),\n",
       " 'CAMEO_DEU_2015': array(['8A', '4C', '2A', '6B', '8C', '4A', '2D', '1A', '1E', '9D', '5C',\n",
       "        '8B', '7A', '5D', '9E', nan, '9B', '1B', '3D', '4E', '4B', '3C',\n",
       "        '5A', '7B', '9A', '6D', '6E', '2C', '7C', '9C', '7D', '5E', '1D',\n",
       "        '8D', '6C', '6A', '5B', '4D', '3A', '2B', '7E', '3B', '6F', '5F',\n",
       "        '1C'], dtype=object)}"
      ]
     },
     "execution_count": 34,
     "metadata": {},
     "output_type": "execute_result"
    }
   ],
   "source": [
    "# Assess categorical variables: which are binary, which are multi-level, and\n",
    "# which one needs to be re-encoded?\n",
    "\n",
    "# Extract column names of categorical type \n",
    "categorical_columns_df = feat_removed.loc[feat_removed['type'] == 'categorical']\n",
    "# Filter data for these categorical columns\n",
    "categorical_data_df = azdias.filter(items=categorical_columns_df['attribute'].values)\n",
    "# Get distinct values for these columns\n",
    "distinct_categories={}\n",
    "for col in categorical_data_df:\n",
    "    distinct_categories[col] = categorical_data_df[col].unique()\n",
    "distinct_categories"
   ]
  },
  {
   "cell_type": "markdown",
   "metadata": {},
   "source": [
    "Looking at our categorical variables we have:\n",
    "\n",
    "- Numeric binary categorical columns: ANREDE_KZ, GREEN_AVANTGARDE, SOHO_KZ, VERS_TYP\n",
    "- Non-numeric binary categorical column: OST_WEST_KZ\n",
    "\n",
    "The rest are multi-level categoricals."
   ]
  },
  {
   "cell_type": "code",
   "execution_count": 35,
   "metadata": {},
   "outputs": [
    {
     "data": {
      "text/plain": [
       "1    1\n",
       "2    1\n",
       "3    1\n",
       "4    1\n",
       "5    1\n",
       "Name: OST_WEST_KZ, dtype: int64"
      ]
     },
     "execution_count": 35,
     "metadata": {},
     "output_type": "execute_result"
    }
   ],
   "source": [
    "# Re-encode categorical variable(s) to be kept in the analysis.\n",
    "\n",
    "# Re-encode binary non-numeric categorical columns \n",
    "azdias['OST_WEST_KZ'] = azdias['OST_WEST_KZ'].replace('W', '1')\n",
    "azdias['OST_WEST_KZ'] = azdias['OST_WEST_KZ'].replace('O', '0')\n",
    "# Convert column to int\n",
    "azdias['OST_WEST_KZ'] = azdias['OST_WEST_KZ'].astype(int)\n",
    "azdias['OST_WEST_KZ'].head()"
   ]
  },
  {
   "cell_type": "code",
   "execution_count": 36,
   "metadata": {},
   "outputs": [],
   "source": [
    "# Extract column names of multi-level categorical type (filter out binary cat columns)\n",
    "cat_multi_columns_df = categorical_columns_df.loc[~categorical_columns_df['attribute'].isin(['ANREDE_KZ','GREEN_AVANTGARDE','SOHO_KZ','VERS_TYP','OST_WEST_KZ'])]\n",
    "cat_multi_col_names = cat_multi_columns_df['attribute'].values\n",
    "# Drop them\n",
    "azdias = azdias.drop(cat_multi_col_names, axis=1)\n"
   ]
  },
  {
   "cell_type": "code",
   "execution_count": 37,
   "metadata": {},
   "outputs": [
    {
     "data": {
      "text/plain": [
       "array(['CJT_GESAMTTYP', 'FINANZTYP', 'GFK_URLAUBERTYP', 'LP_FAMILIE_FEIN',\n",
       "       'LP_FAMILIE_GROB', 'LP_STATUS_FEIN', 'LP_STATUS_GROB',\n",
       "       'NATIONALITAET_KZ', 'SHOPPER_TYP', 'ZABEOTYP', 'GEBAEUDETYP',\n",
       "       'CAMEO_DEUG_2015', 'CAMEO_DEU_2015'], dtype=object)"
      ]
     },
     "execution_count": 37,
     "metadata": {},
     "output_type": "execute_result"
    }
   ],
   "source": [
    "# Show names of columns dropped\n",
    "cat_multi_col_names"
   ]
  },
  {
   "cell_type": "markdown",
   "metadata": {},
   "source": [
    "#### Discussion 1.2.1: Re-Encode Categorical Features\n",
    "\n",
    "In this section I discovered there were 18 categorical features: 5 binary categorical and 13 multi-level. One of the binary features (OST_WEST_K) was non-numeric.\n",
    "\n",
    "For OST_WEST_K, I first searched and replaced it's binary values to 1 and 0, and then converted the column to integer type. For the multi-level categorical fields, I decided to drop them - in which case I end up with a dataset with around 60 odd features. If I had chosen to re-encode these multi-category fields I would have ended up with a dataset of nearly 200 features - which might have been much harder to cluster and derive meaningful insight - so in this case I have chosen the path - less is more!"
   ]
  },
  {
   "cell_type": "markdown",
   "metadata": {},
   "source": [
    "#### Step 1.2.2: Engineer Mixed-Type Features\n",
    "\n",
    "There are a handful of features that are marked as \"mixed\" in the feature summary that require special treatment in order to be included in the analysis. There are two in particular that deserve attention:\n",
    "- \"PRAEGENDE_JUGENDJAHRE\" combines information on three dimensions: generation by decade, movement (mainstream vs. avantgarde), and nation (east vs. west). While there aren't enough levels to disentangle east from west, I should create two new variables to capture the other two dimensions: an interval-type variable for decade, and a binary variable for movement.\n",
    "- \"CAMEO_INTL_2015\" combines information on two axes: wealth and life stage. I will break up the two-digit codes by their 'tens'-place and 'ones'-place digits into two new ordinal variables (which, for the purposes of this project, is equivalent to just treating them as their raw numeric values)."
   ]
  },
  {
   "cell_type": "code",
   "execution_count": 38,
   "metadata": {},
   "outputs": [
    {
     "data": {
      "text/plain": [
       "array([ 14.,  15.,   8.,   3.,  10.,  11.,   5.,   9.,   6.,   4.,  nan,\n",
       "         2.,   1.,  12.,  13.,   7.])"
      ]
     },
     "execution_count": 38,
     "metadata": {},
     "output_type": "execute_result"
    }
   ],
   "source": [
    "# Investigate \"PRAEGENDE_JUGENDJAHRE\" and engineer two new variables.\n",
    "\n",
    "# Lets look at the unique values for this feature\n",
    "azdias['PRAEGENDE_JUGENDJAHRE'].unique()"
   ]
  },
  {
   "cell_type": "code",
   "execution_count": 39,
   "metadata": {},
   "outputs": [],
   "source": [
    "# Create lambda function that will map from PRAEGENDE_JUGENDJAHRE feature to new decade feature\n",
    "def pj_to_decade (row):\n",
    "    if row['PRAEGENDE_JUGENDJAHRE'] in (1,2): # Decade: 40s\n",
    "        return 1\n",
    "    if row['PRAEGENDE_JUGENDJAHRE'] in (3,4): # Decade: 50s\n",
    "        return 2\n",
    "    if row['PRAEGENDE_JUGENDJAHRE'] in (5,6,7): # Decade: 60s\n",
    "        return 3\n",
    "    if row['PRAEGENDE_JUGENDJAHRE'] in (8,9): # Decade: 70s\n",
    "        return 4\n",
    "    if row['PRAEGENDE_JUGENDJAHRE'] in (10,11,12,13): # Decade: 80s\n",
    "        return 5\n",
    "    if row['PRAEGENDE_JUGENDJAHRE'] in (14,15): # Decade: 90s\n",
    "        return 6\n",
    "    \n",
    "# Create new decade feature/column using lambda function\n",
    "azdias['PRAEGENDE_JUGENDJAHRE_DECADE'] = azdias.apply (lambda row: pj_to_decade(row), axis=1)"
   ]
  },
  {
   "cell_type": "code",
   "execution_count": 40,
   "metadata": {},
   "outputs": [
    {
     "data": {
      "text/plain": [
       "array([  6.,   4.,   2.,   5.,   3.,  nan,   1.])"
      ]
     },
     "execution_count": 40,
     "metadata": {},
     "output_type": "execute_result"
    }
   ],
   "source": [
    "# Lets check the unique values of our new variable\n",
    "azdias['PRAEGENDE_JUGENDJAHRE_DECADE'].unique()"
   ]
  },
  {
   "cell_type": "code",
   "execution_count": 41,
   "metadata": {},
   "outputs": [],
   "source": [
    "# Create lambda function that will map from PRAEGENDE_JUGENDJAHRE feature to new movement feature\n",
    "def pj_to_movement (row):\n",
    "    if row['PRAEGENDE_JUGENDJAHRE'] in (1,3,5,8,10,12,14): # Movement: Mainstream\n",
    "        return 0\n",
    "    if row['PRAEGENDE_JUGENDJAHRE'] in (2,4,6,7,9,11,13,15): # Movement: Avantgarde\n",
    "        return 1\n",
    "    \n",
    "# Create new decade feature/column using lambda function\n",
    "azdias['PRAEGENDE_JUGENDJAHRE_MOVEMENT'] = azdias.apply (lambda row: pj_to_movement(row), axis=1)"
   ]
  },
  {
   "cell_type": "code",
   "execution_count": 42,
   "metadata": {},
   "outputs": [
    {
     "data": {
      "text/plain": [
       "array([  0.,   1.,  nan])"
      ]
     },
     "execution_count": 42,
     "metadata": {},
     "output_type": "execute_result"
    }
   ],
   "source": [
    "# Lets check the unique values of our new variable\n",
    "azdias['PRAEGENDE_JUGENDJAHRE_MOVEMENT'].unique()"
   ]
  },
  {
   "cell_type": "code",
   "execution_count": 43,
   "metadata": {},
   "outputs": [],
   "source": [
    "# With both new features extracted succesfully, we can drop the original column\n",
    "azdias = azdias.drop('PRAEGENDE_JUGENDJAHRE', axis=1)"
   ]
  },
  {
   "cell_type": "code",
   "execution_count": 44,
   "metadata": {},
   "outputs": [
    {
     "data": {
      "text/plain": [
       "array(['51', '24', '12', '43', '54', '22', '14', '13', '15', '33', '41',\n",
       "       '34', '55', nan, '25', '23', '31', '52', '35', '45', '44', '32'], dtype=object)"
      ]
     },
     "execution_count": 44,
     "metadata": {},
     "output_type": "execute_result"
    }
   ],
   "source": [
    "# Investigate \"CAMEO_INTL_2015\" and engineer two new variables.\n",
    "\n",
    "# Lets look at the unique values for this feature\n",
    "azdias['CAMEO_INTL_2015'].unique()"
   ]
  },
  {
   "cell_type": "code",
   "execution_count": 45,
   "metadata": {},
   "outputs": [
    {
     "data": {
      "text/plain": [
       "array([51, 24, 12, 43, 54, 22, 14, 13, 15, 33, 41, 34, 55,  0, 25, 23, 31,\n",
       "       52, 35, 45, 44, 32])"
      ]
     },
     "execution_count": 45,
     "metadata": {},
     "output_type": "execute_result"
    }
   ],
   "source": [
    "# We will need to manipulate as integers to make new fields, so lets replace XX & Nan, and convert type\n",
    "azdias['CAMEO_INTL_2015'] = azdias['CAMEO_INTL_2015'].replace({'XX': 0})\n",
    "azdias['CAMEO_INTL_2015'] = azdias['CAMEO_INTL_2015'].replace({np.nan: 0})\n",
    "azdias['CAMEO_INTL_2015'] = azdias['CAMEO_INTL_2015'].astype(int)\n",
    "# Check unique values again and column type\n",
    "azdias['CAMEO_INTL_2015'].unique()"
   ]
  },
  {
   "cell_type": "code",
   "execution_count": 46,
   "metadata": {},
   "outputs": [],
   "source": [
    "# Create lambda function that will map from CAMEO_INTL_2015 feature to new wealth feature\n",
    "def ci2015_to_wealth (row):\n",
    "    if row['CAMEO_INTL_2015'] // 10 == 1: # Wealthy Households\n",
    "        return 1\n",
    "    if row['CAMEO_INTL_2015'] // 10 == 2: # Prosperous Households\n",
    "        return 2\n",
    "    if row['CAMEO_INTL_2015'] // 10 == 3: # Comfortable Households\n",
    "        return 3\n",
    "    if row['CAMEO_INTL_2015'] // 10 == 4: # Less Affluent Households\n",
    "        return 4\n",
    "    if row['CAMEO_INTL_2015'] // 10 == 5: # Poorer Households\n",
    "        return 5\n",
    "    \n",
    "# Create new wealth feature/column using lambda function\n",
    "azdias['CAMEO_INTL_2015_WEALTH'] = azdias.apply (lambda row: ci2015_to_wealth(row), axis=1)"
   ]
  },
  {
   "cell_type": "code",
   "execution_count": 47,
   "metadata": {},
   "outputs": [
    {
     "data": {
      "text/plain": [
       "array([  5.,   2.,   1.,   4.,   3.,  nan])"
      ]
     },
     "execution_count": 47,
     "metadata": {},
     "output_type": "execute_result"
    }
   ],
   "source": [
    "# Lets check the unique values of our new variable\n",
    "azdias['CAMEO_INTL_2015_WEALTH'].unique()"
   ]
  },
  {
   "cell_type": "code",
   "execution_count": 48,
   "metadata": {},
   "outputs": [],
   "source": [
    "# Create lambda function that will map from CAMEO_INTL_2015 feature to new life stage feature\n",
    "def ci2015_to_lifestage (row):\n",
    "    if row['CAMEO_INTL_2015'] % 10 == 1: # Pre-Family Couples & Singles\n",
    "        return 1\n",
    "    if row['CAMEO_INTL_2015'] % 10 == 2: # Young Couples With Children\n",
    "        return 2\n",
    "    if row['CAMEO_INTL_2015'] % 10 == 3: # Families With School Age Children\n",
    "        return 3\n",
    "    if row['CAMEO_INTL_2015'] % 10 == 4: # Older Families &  Mature Couples\n",
    "        return 4\n",
    "    if row['CAMEO_INTL_2015'] % 10 == 5: # Elders In Retirement\n",
    "        return 5\n",
    "    \n",
    "# Create new life stage feature/column using lambda function\n",
    "azdias['CAMEO_INTL_2015_LIFESTAGE'] = azdias.apply (lambda row: ci2015_to_lifestage(row), axis=1)"
   ]
  },
  {
   "cell_type": "code",
   "execution_count": 49,
   "metadata": {},
   "outputs": [
    {
     "data": {
      "text/plain": [
       "array([  1.,   4.,   2.,   3.,   5.,  nan])"
      ]
     },
     "execution_count": 49,
     "metadata": {},
     "output_type": "execute_result"
    }
   ],
   "source": [
    "# Lets check the unique values of our new variable\n",
    "azdias['CAMEO_INTL_2015_LIFESTAGE'].unique()"
   ]
  },
  {
   "cell_type": "code",
   "execution_count": 50,
   "metadata": {},
   "outputs": [],
   "source": [
    "# With both new features extracted succesfully, we can drop the original column\n",
    "azdias = azdias.drop('CAMEO_INTL_2015', axis=1)"
   ]
  },
  {
   "cell_type": "markdown",
   "metadata": {},
   "source": [
    "#### Discussion 1.2.2: Engineer Mixed-Type Features\n",
    "\n",
    "PRAEGENDE_JUGENDJAHRE\n",
    "\n",
    "From this feature, I created two new features PRAEGENDE_JUGENDJAHRE_DECADE and PRAEGENDE_JUGENDJAHRE_MOVEMENT which encapsulate sub-features within the orginal. Once these were created, I dropped the original PRAEGENDE_JUGENDJAHRE feature. Note, the original feature contained 'unknown' values which translated into nan values in the new features. We will need to deal with these before proceeding to further stages.\n",
    "\n",
    "CAMEO_INTL_2015\n",
    "\n",
    "From this feature, I created two new features CAMEO_INTL_2015_WEALTH and CAMEO_INTL_2015_LIFESTAGE which encapsulate sub-features within the orginal. Once these were created, I dropped the original CAMEO_INTL_2015 feature. Note, the original feature contained 'unknown' values (as nan and XX) which translated into nan values in the new features. We will need to deal with these before proceeding to further stages."
   ]
  },
  {
   "cell_type": "markdown",
   "metadata": {},
   "source": [
    "### Step 1.3: Create a Cleaning Function\n",
    "\n",
    "Even though I have finished cleaning up the general population demographics data, it's important to look ahead to the future and realize that I will need to perform the same cleaning steps on the customer demographics data. In this substep, I will complete the function below to execute the main feature selection, encoding, and re-engineering steps I performed above. Then, when it comes to looking at the customer data in Step 3, I can just run this function on that DataFrame to get the trimmed dataset in a single step."
   ]
  },
  {
   "cell_type": "code",
   "execution_count": 53,
   "metadata": {},
   "outputs": [],
   "source": [
    "def clean_data(df):\n",
    "    \"\"\"\n",
    "    Perform feature trimming, re-encoding, and engineering for demographics\n",
    "    data\n",
    "    \n",
    "    INPUT: Demographics DataFrame\n",
    "    OUTPUT: Trimmed and cleaned demographics DataFrame\n",
    "    \"\"\"\n",
    "    \n",
    "    # Put in code here to execute all main cleaning steps:\n",
    "    # convert missing value codes into NaNs, ...\n",
    "    clean_df = replace_missing_with_NAN(df)\n",
    "    \n",
    "    # remove selected columns and rows, ...\n",
    "    # Remove outlier columns\n",
    "    clean_df = clean_df.drop(['TITEL_KZ','AGER_TYP','KK_KUNDENTYP','KBA05_BAUMAX','GEBURTSJAHR', 'GEBURTSJAHR','ALTER_HH'], axis=1)\n",
    "    # Remove outlier rows\n",
    "    outlier_rows_indexes = clean_df.isnull().sum(axis = 1)[clean_df.isnull().sum(axis = 1) > 25]\n",
    "    clean_df = clean_df.drop(outlier_rows_indexes.index, axis=0)\n",
    "    \n",
    "    \n",
    "    # select, re-encode, and engineer column values.\n",
    "    # Re-encode binary non-numeric categorical columns \n",
    "    clean_df['OST_WEST_KZ'] = clean_df['OST_WEST_KZ'].replace('W', '1')\n",
    "    clean_df['OST_WEST_KZ'] = clean_df['OST_WEST_KZ'].replace('O', '0')\n",
    "    # Convert column to int\n",
    "    clean_df['OST_WEST_KZ'] = clean_df['OST_WEST_KZ'].astype(int)\n",
    "    # Extract remaining columns/features (remove columns lost earlier in cleaning process)\n",
    "    remaining_feat = feat_info.loc[~feat_info['attribute'].isin(outliers_columns_df.index)]\n",
    "    # Extract column names of categorical type \n",
    "    categorical_columns_df = remaining_feat.loc[remaining_feat['type'] == 'categorical']\n",
    "    # Extract column names of multi-level categorical type (filter out binary cat columns)\n",
    "    cat_multi_columns_df = categorical_columns_df.loc[~categorical_columns_df['attribute'].isin(['ANREDE_KZ','GREEN_AVANTGARDE','SOHO_KZ','VERS_TYP','OST_WEST_KZ'])]\n",
    "    cat_multi_col_names = cat_multi_columns_df['attribute'].values\n",
    "    # Drop multi-level categorical columns \n",
    "    clean_df = clean_df.drop(cat_multi_col_names, axis=1)\n",
    "    \n",
    "    # Engineer new features\n",
    "    # Create new decade feature/column using lambda function\n",
    "    clean_df['PRAEGENDE_JUGENDJAHRE_DECADE'] = clean_df.apply (lambda row: pj_to_decade(row), axis=1)\n",
    "    # Create new decade feature/column using lambda function\n",
    "    clean_df['PRAEGENDE_JUGENDJAHRE_MOVEMENT'] = clean_df.apply (lambda row: pj_to_movement(row), axis=1)\n",
    "    # We will need to manipulate as integers to make new fields, so lets replace XX & Nan, and convert type\n",
    "    clean_df['CAMEO_INTL_2015'] = clean_df['CAMEO_INTL_2015'].replace({'XX': 0})\n",
    "    clean_df['CAMEO_INTL_2015'] = clean_df['CAMEO_INTL_2015'].replace({np.nan: 0})\n",
    "    clean_df['CAMEO_INTL_2015'] = clean_df['CAMEO_INTL_2015'].astype(int)\n",
    "    # Create new wealth feature/column using lambda function\n",
    "    clean_df['CAMEO_INTL_2015_WEALTH'] = clean_df.apply (lambda row: ci2015_to_wealth(row), axis=1)\n",
    "    # Create new life stage feature/column using lambda function\n",
    "    clean_df['CAMEO_INTL_2015_LIFESTAGE'] = clean_df.apply (lambda row: ci2015_to_lifestage(row), axis=1)\n",
    "    # With both new features extracted succesfully, we can drop the original column\n",
    "    clean_df = clean_df.drop('PRAEGENDE_JUGENDJAHRE', axis=1)\n",
    "    # With both new features extracted succesfully, we can drop the original column\n",
    "    clean_df = clean_df.drop('CAMEO_INTL_2015', axis=1)\n",
    "    \n",
    "    # Return the cleaned dataframe.\n",
    "    return clean_df\n",
    "    \n",
    "    "
   ]
  },
  {
   "cell_type": "markdown",
   "metadata": {},
   "source": [
    "## Step 2: Feature Transformation\n",
    "\n",
    "### Step 2.1: Apply Feature Scaling\n",
    "\n",
    "Before we apply dimensionality reduction techniques to the data, we need to perform feature scaling so that the principal component vectors are not influenced by the natural differences in scale for features."
   ]
  },
  {
   "cell_type": "code",
   "execution_count": 54,
   "metadata": {},
   "outputs": [
    {
     "data": {
      "text/plain": [
       "1.6252821437462261"
      ]
     },
     "execution_count": 54,
     "metadata": {},
     "output_type": "execute_result"
    }
   ],
   "source": [
    "# Lets estimate current percentage of nans in dataset\n",
    "total_cells = azdias.shape[0] * azdias.shape[1]\n",
    "current_nans = azdias.isnull().values.sum()\n",
    "(current_nans / total_cells) * 100"
   ]
  },
  {
   "cell_type": "markdown",
   "metadata": {},
   "source": [
    "Ok thats pretty good. Lets impute the missing values."
   ]
  },
  {
   "cell_type": "code",
   "execution_count": 55,
   "metadata": {},
   "outputs": [
    {
     "data": {
      "text/plain": [
       "0.0"
      ]
     },
     "execution_count": 55,
     "metadata": {},
     "output_type": "execute_result"
    }
   ],
   "source": [
    "# Impute missing nan values, using median (rather than mean)\n",
    "def impute_nans(df):\n",
    "    fill_NaN = Imputer(missing_values=np.nan, strategy='median', axis=1)\n",
    "    inputed_df = pd.DataFrame(fill_NaN.fit_transform(df))\n",
    "    inputed_df.columns = df.columns\n",
    "    inputed_df.index = df.index\n",
    "    return inputed_df\n",
    "\n",
    "azdias = impute_nans(azdias)\n",
    "# Check Nans replaced\n",
    "current_nans = azdias.isnull().values.sum()\n",
    "(current_nans / total_cells) * 100"
   ]
  },
  {
   "cell_type": "code",
   "execution_count": 56,
   "metadata": {},
   "outputs": [],
   "source": [
    "# Apply feature scaling to the general population demographics data.\n",
    "scaler = StandardScaler()\n",
    "azdias_np = scaler.fit_transform(azdias)"
   ]
  },
  {
   "cell_type": "markdown",
   "metadata": {},
   "source": [
    "### Discussion 2.1: Apply Feature Scaling\n",
    "\n",
    "For the Nan values I decided to impute the missing values, otherwise simply deleting rows with Nans would have resulted in some loss of data.\n",
    "\n",
    "For actually imputing the missing values, I used the median rather than mean. This is because for many of the features (such as the new CAMEO_INTL_2015_WEALTH feature) have values that should be discrete to have meaning because they are categorical ie 1.0, 2.0, 3.0. If we use mean to impute, we will get decimal values and really these have no meaning for such features. Therefore by using the median, we impute with 'center' values for the data that still have meaning especially for these categorical type numeric variables.\n",
    "\n",
    "I used the Standard Scaler with default settings to scale and normalise the values."
   ]
  },
  {
   "cell_type": "markdown",
   "metadata": {},
   "source": [
    "### Step 2.2: Perform Dimensionality Reduction\n",
    "\n",
    "On the scaled data, we are now ready to apply dimensionality reduction techniques. \n",
    "\n",
    "- I will use sklearn's [PCA](http://scikit-learn.org/stable/modules/generated/sklearn.decomposition.PCA.html) class to apply principal component analysis on the data, thus finding the vectors of maximal variance in the data. To start, I will not set any parameters (so all components are computed) or set a number of components that is at least half the number of features (so there's enough features to see the general trend in variability).\n",
    "- I will observe the ratio of variance explained by each principal component as well as the cumulative variance explained. Based on what I find, I will select a value for the number of transformed features I will retain for the clustering part of the project.\n",
    "- Once I have made a choice for the number of components to keep, I will need to re-fit a PCA instance to perform the decided-on transformation."
   ]
  },
  {
   "cell_type": "code",
   "execution_count": 57,
   "metadata": {},
   "outputs": [],
   "source": [
    "# Apply PCA to the data - compute all components\n",
    "pca = PCA()\n",
    "pca_components = pca.fit_transform(azdias_np)"
   ]
  },
  {
   "cell_type": "code",
   "execution_count": 58,
   "metadata": {},
   "outputs": [
    {
     "data": {
      "text/plain": [
       "99.959999999999994"
      ]
     },
     "execution_count": 58,
     "metadata": {},
     "output_type": "execute_result"
    }
   ],
   "source": [
    "# PCA explained variance\n",
    "ratios = pca.explained_variance_ratio_.reshape(len(pca.components_), 1)\n",
    "variance_ratios = pd.DataFrame(np.round(ratios, 4), columns = ['Explained Variance'])\n",
    "# Calulate total % explained variance for all components\n",
    "variance_ratios['Explained Variance'].sum()*100"
   ]
  },
  {
   "cell_type": "code",
   "execution_count": 59,
   "metadata": {},
   "outputs": [
    {
     "data": {
      "image/png": "[encoded data removed]",
      "text/plain": [
       "<matplotlib.figure.Figure at 0x7f1b1f46db38>"
      ]
     },
     "metadata": {
      "needs_background": "light"
     },
     "output_type": "display_data"
    }
   ],
   "source": [
    "# Investigate the variance accounted for by each principal component.\n",
    "\n",
    "# Utility function for showing component varience (not written by me - obtained from Udacity lesson content)\n",
    "def scree_plot(pca):\n",
    "    '''\n",
    "    Creates a scree plot associated with the principal components \n",
    "    \n",
    "    INPUT: pca - the result of instantian of PCA in scikit learn\n",
    "            \n",
    "    OUTPUT:\n",
    "            None\n",
    "    '''\n",
    "    num_components=len(pca.explained_variance_ratio_)\n",
    "    ind = np.arange(num_components)\n",
    "    vals = pca.explained_variance_ratio_\n",
    " \n",
    "    plt.figure(figsize=(10, 6))\n",
    "    ax = plt.subplot(111)\n",
    "    cumvals = np.cumsum(vals)*100\n",
    "    ax.bar(ind, vals)\n",
    "    ax.plot(ind, cumvals)\n",
    "    \n",
    "    ax.xaxis.set_tick_params(width=0)\n",
    "    ax.yaxis.set_tick_params(width=2, length=12)\n",
    " \n",
    "    ax.set_xlabel(\"Principal Component\")\n",
    "    ax.set_ylabel(\"Variance Explained (%)\")\n",
    "    plt.title('Explained Cumulative Variance Per Principal Component')\n",
    "    \n",
    "# Investigate variance explained by pca components\n",
    "scree_plot(pca)"
   ]
  },
  {
   "cell_type": "markdown",
   "metadata": {},
   "source": [
    "We can see that after around 65 components about 100% the varience is accounted for after which there is no added benefit of the further components, therefore we will select the 65 top components."
   ]
  },
  {
   "cell_type": "code",
   "execution_count": 60,
   "metadata": {},
   "outputs": [],
   "source": [
    "# Re-apply PCA to the data while selecting for number of components to retain.\n",
    "pca = PCA(65)\n",
    "pca_components_azdias = pca.fit_transform(azdias_np)"
   ]
  },
  {
   "cell_type": "code",
   "execution_count": 61,
   "metadata": {},
   "outputs": [
    {
     "data": {
      "image/png": "[encoded data removed]",
      "text/plain": [
       "<matplotlib.figure.Figure at 0x7f1b1f434080>"
      ]
     },
     "metadata": {
      "needs_background": "light"
     },
     "output_type": "display_data"
    }
   ],
   "source": [
    "# Show explained variance of final selected components\n",
    "scree_plot(pca)"
   ]
  },
  {
   "cell_type": "code",
   "execution_count": 62,
   "metadata": {},
   "outputs": [
    {
     "data": {
      "text/plain": [
       "68"
      ]
     },
     "execution_count": 62,
     "metadata": {},
     "output_type": "execute_result"
    }
   ],
   "source": [
    "# Reminder of dimensionality of original data\n",
    "azdias.shape[1]"
   ]
  },
  {
   "cell_type": "markdown",
   "metadata": {},
   "source": [
    "### Discussion 2.2: Perform Dimensionality Reduction\n",
    "\n",
    "The default PCA generated around 65 components. At around 65 components 100% of the variance is explained, so there is no added benefit of addtional components after this point. I am actually slightly surprised the dimensionality has been reduced from only 68 to 65! I would have hoped PCA could explain more of the variance with fewer components?\n",
    "\n",
    "Anyway, I will therefore be retaining the 65 top principal components for the next stage. "
   ]
  },
  {
   "cell_type": "markdown",
   "metadata": {},
   "source": [
    "### Step 2.3: Interpret Principal Components\n",
    "\n",
    "Now that we have our transformed principal components, it's a nice idea to check out the weight of each variable on the first few components to see if they can be interpreted in some fashion.\n",
    "\n",
    "As a reminder, each principal component is a unit vector that points in the direction of highest variance (after accounting for the variance captured by earlier principal components). The further a weight is from zero, the more the principal component is in the direction of the corresponding feature. If two features have large weights of the same sign (both positive or both negative), then increases in one tend expect to be associated with increases in the other. To contrast, features with different signs can be expected to show a negative correlation: increases in one variable should result in a decrease in the other.\n",
    "\n",
    "- To investigate the features, I will map each weight to their corresponding feature name, then sort the features according to weight. The most interesting features for each principal component, then, will be those at the beginning and end of the sorted list. I will use the data dictionary document to help understand these most prominent features, their relationships, and what a positive or negative value on the principal component might indicate.\n",
    "- I will investigate and interpret feature associations from the first three principal components in this substep. To help facilitate this, I will write a function that I can call at any time to print the sorted list of feature weights, for the *i*-th principal component. This might come in handy in the next step of the project, when I interpret the tendencies of the discovered clusters."
   ]
  },
  {
   "cell_type": "code",
   "execution_count": 63,
   "metadata": {},
   "outputs": [
    {
     "name": "stdout",
     "output_type": "stream",
     "text": [
      "Component 0 - Top 5 and bottom 5 feature weights\n",
      "                        Feature weight\n",
      "PLZ8_ANTG3                      0.2224\n",
      "PLZ8_BAUMAX                     0.2158\n",
      "CAMEO_INTL_2015_WEALTH          0.2023\n",
      "ORTSGR_KLS9                     0.2016\n",
      "EWDICHTE                        0.1996\n",
      "FINANZ_MINIMALIST              -0.2078\n",
      "KBA05_GBZ                      -0.2101\n",
      "KBA05_ANTG1                    -0.2172\n",
      "PLZ8_ANTG1                     -0.2215\n",
      "MOBI_REGIO                     -0.2367\n"
     ]
    },
    {
     "data": {
      "image/png": "[encoded data removed]",
      "text/plain": [
       "<matplotlib.figure.Figure at 0x7f1b098fecc0>"
      ]
     },
     "metadata": {
      "needs_background": "light"
     },
     "output_type": "display_data"
    }
   ],
   "source": [
    "# Map weights for the first principal component to corresponding feature names\n",
    "# and then print the linked values, sorted by weight.\n",
    "    \n",
    "def features_of_component(component_num, pca, df):\n",
    "    \n",
    "    # Get selected component\n",
    "    component = pd.DataFrame(np.round(pca.components_, 4), columns = df.keys()).iloc[component_num]\n",
    "    # Sort features by weights\n",
    "    component = component.sort_values(ascending=False)\n",
    "    # Extract top and bottom 5 feature weights for this component\n",
    "    component = pd.concat([component.head(5), component.tail(5)])\n",
    "    # Re-format\n",
    "    component_df = component.to_frame()\n",
    "    component_df = component_df.rename(columns={component_num: \"Feature weight\"})\n",
    "\n",
    "    # Print weight values\n",
    "    title = \"Component \" + str(component_num) + \" - Top 5 and bottom 5 feature weights\"\n",
    "    print(title)\n",
    "    print(component_df)\n",
    "    \n",
    "    # Create a bar plot visualization\n",
    "    fig, ax = plt.subplots(figsize = (18,5))\n",
    "    \n",
    "    # Plot the feature weights of component\n",
    "    component_df.plot(ax = ax, kind = 'bar');\n",
    "    ax.set_ylabel(\"Weights\")\n",
    "    ax.set_xlabel(\"Features\")\n",
    "    ax.set_title(title)\n",
    "    \n",
    "features_of_component(0, pca, azdias)"
   ]
  },
  {
   "cell_type": "markdown",
   "metadata": {},
   "source": [
    "So for this component 0, the definitions for the top 5 features with positive weights are the following:\n",
    "\n",
    "- EWDICHTE: Density of households per square kilometer\n",
    "- ORTSGR_KLS9: Size of community\n",
    "- CAMEO_INTL_2015_WEALTH: German CAMEO: Wealth / Life Stage Typology, Wealthy Households\n",
    "- PLZ8_ANTG3: Number of 6-10 family houses in the PLZ8 region\n",
    "- PLZ8_BAUMAX: Most common building type within the PLZ8 region\n",
    "\n",
    "So for this component 0, the definitions for the bottom 5 features with negative weights are the following:\n",
    "\n",
    "- KBA05_GBZ: Number of buildings in the microcell\n",
    "- PLZ8_ANTG1: Number of 1-2 family houses in the PLZ8 region\n",
    "- MOBI_REGIO: Movement patterns\n",
    "- KBA05_ANTG1: Number of 1-2 family houses in the microcell\n",
    "- FINANZ_MINIMALIST: Financial typology, for each dimension\n",
    "\n",
    "Looking at the top 5 features, these seem to be to do with:\n",
    "\n",
    "- Size & density of community\n",
    "\n",
    "Looking at the bottom 5 features, these seem to be to do with:\n",
    "\n",
    "- Small occupancy households\n",
    "- Size & density of community\n",
    "- Movement patterns\n",
    "- Types of finance available \n",
    "\n",
    "For the top 5, their relationship might be described as concerning large occupancy and community density.\n",
    "\n",
    "For the bottom 5, the fact that these are all correlated with each other suggests some interesting relationships, for example something akin to 'high social mobility' these might describe people who live in small occupancy households, move around more often, and have a higher range of finance sources available. It makes some sense why these features would correlate with each other.\n",
    "\n",
    "In terms of the top 5 relating to the bottom 5, we might make sense that the top 5 features which are associated with low income and large occupancy households, and it does make some sense that these are negatively correlated with the 'low density - high social mobility' features such as small occupancy, more financial means, and more mobile. Tho there are some small discripencies in this thesis regarding contrdictory features (ie low and high income features in top 5)."
   ]
  },
  {
   "cell_type": "code",
   "execution_count": 64,
   "metadata": {},
   "outputs": [
    {
     "name": "stdout",
     "output_type": "stream",
     "text": [
      "Component 1 - Top 5 and bottom 5 feature weights\n",
      "                              Feature weight\n",
      "ALTERSKATEGORIE_GROB                  0.2667\n",
      "FINANZ_VORSORGER                      0.2387\n",
      "SEMIO_ERL                             0.2337\n",
      "SEMIO_LUST                            0.1879\n",
      "RETOURTYP_BK_S                        0.1645\n",
      "SEMIO_PFLICHT                        -0.2335\n",
      "SEMIO_TRADV                          -0.2360\n",
      "FINANZ_SPARER                        -0.2438\n",
      "PRAEGENDE_JUGENDJAHRE_DECADE         -0.2581\n",
      "SEMIO_REL                            -0.2597\n"
     ]
    },
    {
     "data": {
      "image/png": "[encoded data removed]",
      "text/plain": [
       "<matplotlib.figure.Figure at 0x7f1b09896208>"
      ]
     },
     "metadata": {
      "needs_background": "light"
     },
     "output_type": "display_data"
    }
   ],
   "source": [
    "# Map weights for the second principal component to corresponding feature names\n",
    "# and then print the linked values, sorted by weight.\n",
    "\n",
    "features_of_component(1, pca, azdias)"
   ]
  },
  {
   "cell_type": "markdown",
   "metadata": {},
   "source": [
    "So for this component 1, the definitions for the top 5 features with positive weights are the following:\n",
    "\n",
    "- ALTERSKATEGORIE_GROB: Estimated age based on given name analysis\n",
    "- FINANZ_VORSORGER: Financial typology, for each dimension\n",
    "- SEMIO_ERL: Personality typology, for each dimension\n",
    "- SEMIO_LUST: Personality typology, for each dimension\n",
    "- RETOURTYP_BK_S: Return type (ie type of shopper)\n",
    "\n",
    "So for this component 1, the definitions for the bottom 5 features with negative weights are the following:\n",
    "\n",
    "- SEMIO_PFLICHT: Personality typology, for each dimension\n",
    "- SEMIO_TRADV: Personality typology, for each dimension\n",
    "- FINANZ_SPARER: Financial typology, for each dimension\n",
    "- PRAEGENDE_JUGENDJAHRE_DECADE: Dominating movement of person's youth (avantgarde vs. mainstream; east vs. west) - Decade\n",
    "- SEMIO_REL: Personality typology, for each dimension\n",
    "\n",
    "So for the top 5, these seem to be related to:\n",
    "\n",
    "- Age\n",
    "- Shopper type\n",
    "- Personality type\n",
    "\n",
    "For the bottom 5 these seem to be related to:\n",
    "\n",
    "- Personality type\n",
    "- Financial options\n",
    "- Social movement (by decade)\n",
    "\n",
    "So with personality type being involved in both positive and negative correlations - its difficult to say what this might indicate. However this component does indicate an inverse correlation between age and social movement which could be interesting and makes some sense."
   ]
  },
  {
   "cell_type": "code",
   "execution_count": 65,
   "metadata": {},
   "outputs": [
    {
     "name": "stdout",
     "output_type": "stream",
     "text": [
      "Component 2 - Top 5 and bottom 5 feature weights\n",
      "                   Feature weight\n",
      "SEMIO_VERT                 0.3468\n",
      "SEMIO_SOZ                  0.2614\n",
      "SEMIO_FAM                  0.2492\n",
      "SEMIO_KULT                 0.2350\n",
      "FINANZ_MINIMALIST          0.1594\n",
      "SEMIO_RAT                 -0.2186\n",
      "SEMIO_KRIT                -0.2769\n",
      "SEMIO_DOM                 -0.3159\n",
      "SEMIO_KAEM                -0.3385\n",
      "ANREDE_KZ                 -0.3690\n"
     ]
    },
    {
     "data": {
      "image/png": "[encoded data removed]",
      "text/plain": [
       "<matplotlib.figure.Figure at 0x7f1b071cf7b8>"
      ]
     },
     "metadata": {
      "needs_background": "light"
     },
     "output_type": "display_data"
    }
   ],
   "source": [
    "# Map weights for the third principal component to corresponding feature names\n",
    "# and then print the linked values, sorted by weight.\n",
    "\n",
    "features_of_component(2, pca, azdias)"
   ]
  },
  {
   "cell_type": "markdown",
   "metadata": {},
   "source": [
    "So for this component 2, the definitions for the top 5 features with positive weights are the following:\n",
    "\n",
    "- SEMIO_VERT: Personality typology, for each dimension\n",
    "- SEMIO_SOZ: Personality typology, for each dimension\n",
    "- SEMIO_FAM: Personality typology, for each dimension\n",
    "- SEMIO_KULT: Personality typology, for each dimension\n",
    "- FINANZ_MINIMALIST: Financial typology, for each dimension\n",
    "\n",
    "So for this component 2, the definitions for the bottom 5 features with negative weights are the following:\n",
    "\n",
    "- SEMIO_RAT: Personality typology, for each dimension\n",
    "- SEMIO_KRIT: Personality typology, for each dimension\n",
    "- SEMIO_DOM: Personality typology, for each dimension\n",
    "- SEMIO_KAEM: Personality typology, for each dimension\n",
    "- ANREDE_KZ: Gender\n",
    "\n",
    "Given most of these features from both the most positive and negative relationships to this compoent relate to personality type, its is more difficult to infer insights for this component."
   ]
  },
  {
   "cell_type": "markdown",
   "metadata": {},
   "source": [
    "### Discussion 2.3: Interpret Principal Components\n",
    "\n",
    "I investigated the first 3 principle components, and for each looked at their top and bottom 5 features.\n",
    "\n",
    "For the first component, there appeared to be several interesting correlations between the strongest features, such as positive correlations between size and density features, and negative correlations between large occupancy/high density features v low density & low occupancy & high financial and physical mobility. \n",
    "\n",
    "For the second and third components, the relationships between the strongest features became harder to infer any obvious meaning at this stage."
   ]
  },
  {
   "cell_type": "markdown",
   "metadata": {},
   "source": [
    "## Step 3: Clustering\n",
    "\n",
    "### Step 3.1: Apply Clustering to General Population\n",
    "\n",
    "I have assessed and cleaned the demographics data, then scaled and transformed them. Now, it's time to see how the data clusters in the principal components space. In this substep, I will apply k-means clustering to the dataset and use the average within-cluster distances from each point to their assigned cluster's centroid to decide on a number of clusters to keep.\n",
    "\n",
    "- I will use sklearn's [KMeans](http://scikit-learn.org/stable/modules/generated/sklearn.cluster.KMeans.html#sklearn.cluster.KMeans) class to perform k-means clustering on the PCA-transformed data.\n",
    "- Then, I will compute the average difference from each point to its assigned cluster's center. \n",
    "- I will perform the above two steps for a number of different cluster counts. I can then see how the average distance decreases with an increasing number of clusters. However, each additional cluster provides a smaller net benefit. I will use this fact to select a final number of clusters in which to group the data. \n",
    "- Once I have selected a final number of clusters to use, I will re-fit a KMeans instance to perform the clustering operation. "
   ]
  },
  {
   "cell_type": "code",
   "execution_count": 66,
   "metadata": {},
   "outputs": [],
   "source": [
    "# Over a number of different cluster counts...\n",
    "# run k-means clustering on the data and...\n",
    "# compute the average within-cluster distances.\n",
    "    \n",
    "def get_kmeans_score(data, center):\n",
    "    '''\n",
    "    returns the kmeans score regarding SSE for points to centers\n",
    "    INPUT:\n",
    "        data - the dataset you want to fit kmeans to\n",
    "        center - the number of centers you want (the k value)\n",
    "    OUTPUT:\n",
    "        score - the SSE score for the kmeans model fit to the data\n",
    "    '''\n",
    "    #instantiate kmeans\n",
    "    kmeans = KMeans(n_clusters=center)\n",
    "\n",
    "    # Then fit the model to your data using the fit method\n",
    "    model = kmeans.fit(data)\n",
    "\n",
    "    # Obtain a score related to the model fit\n",
    "    score = np.abs(model.score(data))\n",
    "\n",
    "    return score"
   ]
  },
  {
   "cell_type": "code",
   "execution_count": 150,
   "metadata": {},
   "outputs": [
    {
     "name": "stdout",
     "output_type": "stream",
     "text": [
      "Compute time: 53.22 mins\n"
     ]
    },
    {
     "data": {
      "image/png": "[encoded data removed]",
      "text/plain": [
       "<matplotlib.figure.Figure at 0x7fb7c9beba58>"
      ]
     },
     "metadata": {
      "needs_background": "light"
     },
     "output_type": "display_data"
    }
   ],
   "source": [
    "# Investigate the change in within-cluster distance across number of clusters.\n",
    "\n",
    "start_compute = time.time()\n",
    "\n",
    "k_scores = []\n",
    "k_vals = list(range(10,26,2))\n",
    "\n",
    "# Calculate scores for a range of k values\n",
    "for k in k_vals:\n",
    "    k_scores.append(get_kmeans_score(pca_components_azdias, k))\n",
    "\n",
    "# Plot k vals (clusters) v score (SSE)\n",
    "plt.plot(k_vals, k_scores, linestyle='--', marker='o', color='b');\n",
    "plt.xlabel('K');\n",
    "plt.ylabel('SSE');\n",
    "plt.title('SSE vs. K');\n",
    "\n",
    "print(\"Compute time: %s mins\" % np.round(((time.time() - start_compute)/60),2))"
   ]
  },
  {
   "cell_type": "markdown",
   "metadata": {},
   "source": [
    "Using the elbow method to determine the optimal number of clusters, we can see no indication in a sudden drop in slope as clusters increase (indicating the most optimal number of clusters). Therefore in the absence of guidence from this method, I will choose 20 clusters."
   ]
  },
  {
   "cell_type": "code",
   "execution_count": 67,
   "metadata": {},
   "outputs": [
    {
     "name": "stdout",
     "output_type": "stream",
     "text": [
      "Compute time: 8.23 mins\n"
     ]
    }
   ],
   "source": [
    "# Re-fit the k-means model with the selected number of clusters and obtain\n",
    "# cluster predictions for the general population demographics data.\n",
    "\n",
    "start_compute = time.time()\n",
    "\n",
    "# Instantiate chosen kmeans model\n",
    "kmeans = KMeans(n_clusters=20)\n",
    "kmeans_model = kmeans.fit(pca_components_azdias)\n",
    "# Fit & predict on population data\n",
    "kmeans_clusters_azdias = kmeans_model.predict(pca_components_azdias)\n",
    "\n",
    "print(\"Compute time: %s mins\" % np.round(((time.time() - start_compute)/60),2))"
   ]
  },
  {
   "cell_type": "markdown",
   "metadata": {},
   "source": [
    "### Discussion 3.1: Apply Clustering to General Population\n",
    "\n",
    "Using the eblow method to try to determine optimum cluster levels, I was unable to find an obvious candidate cluster value. I chose a cluster value of 20."
   ]
  },
  {
   "cell_type": "markdown",
   "metadata": {},
   "source": [
    "### Step 3.2: Apply All Steps to the Customer Data\n",
    "\n",
    "Now that I have clusters and cluster centers for the general population, it's time to see how the customer data maps on to those clusters. I am going to use the fits from the general population to clean, transform, and cluster the customer data. In the last step of the project, I will interpret how the general population fits apply to the customer data."
   ]
  },
  {
   "cell_type": "code",
   "execution_count": 68,
   "metadata": {},
   "outputs": [
    {
     "data": {
      "text/plain": [
       "(191652, 85)"
      ]
     },
     "execution_count": 68,
     "metadata": {},
     "output_type": "execute_result"
    }
   ],
   "source": [
    "# Load in the customer demographics data.\n",
    "customers = pd.read_csv('Udacity_CUSTOMERS_Subset.csv', delimiter=';')\n",
    "# Initial dimensions\n",
    "customers.shape"
   ]
  },
  {
   "cell_type": "code",
   "execution_count": 69,
   "metadata": {},
   "outputs": [
    {
     "data": {
      "text/plain": [
       "(141713, 68)"
      ]
     },
     "execution_count": 69,
     "metadata": {},
     "output_type": "execute_result"
    }
   ],
   "source": [
    "# Apply preprocessing, feature transformation, and clustering from the general\n",
    "# demographics onto the customer data, obtaining cluster predictions for the\n",
    "# customer demographics data.\n",
    "\n",
    "# Clean data (including remove columns)\n",
    "customers = clean_data(customers)\n",
    "# Separate outlier rows\n",
    "# (Separate out 'outlier rows' from customer dataset using same criteria as was applied to general population dataset)\n",
    "# - Get normal rows indexes\n",
    "normal_rows_indexes_customers = customers.isnull().sum(axis = 1)[customers.isnull().sum(axis = 1) <= 25]\n",
    "# - Get outlier rows indexes\n",
    "outlier_rows_indexes_customers = customers.isnull().sum(axis = 1)[customers.isnull().sum(axis = 1) > 25] \n",
    "# - Get normal rows data subset\n",
    "customers = customers.drop(outlier_rows_indexes_customers.index)\n",
    "# - Get outlier rows data subset\n",
    "outlier_customers = customers.drop(normal_rows_indexes_customers.index)\n",
    "# Current dimensions\n",
    "customers.shape"
   ]
  },
  {
   "cell_type": "code",
   "execution_count": 93,
   "metadata": {},
   "outputs": [
    {
     "data": {
      "text/html": [
       "<div>\n",
       "<style>\n",
       "    .dataframe thead tr:only-child th {\n",
       "        text-align: right;\n",
       "    }\n",
       "\n",
       "    .dataframe thead th {\n",
       "        text-align: left;\n",
       "    }\n",
       "\n",
       "    .dataframe tbody tr th {\n",
       "        vertical-align: top;\n",
       "    }\n",
       "</style>\n",
       "<table border=\"1\" class=\"dataframe\">\n",
       "  <thead>\n",
       "    <tr style=\"text-align: right;\">\n",
       "      <th></th>\n",
       "      <th>ALTERSKATEGORIE_GROB</th>\n",
       "      <th>ANREDE_KZ</th>\n",
       "      <th>FINANZ_MINIMALIST</th>\n",
       "      <th>FINANZ_SPARER</th>\n",
       "      <th>FINANZ_VORSORGER</th>\n",
       "      <th>FINANZ_ANLEGER</th>\n",
       "      <th>FINANZ_UNAUFFAELLIGER</th>\n",
       "      <th>FINANZ_HAUSBAUER</th>\n",
       "      <th>GREEN_AVANTGARDE</th>\n",
       "      <th>HEALTH_TYP</th>\n",
       "      <th>...</th>\n",
       "      <th>PLZ8_BAUMAX</th>\n",
       "      <th>PLZ8_HHZ</th>\n",
       "      <th>PLZ8_GBZ</th>\n",
       "      <th>ARBEIT</th>\n",
       "      <th>ORTSGR_KLS9</th>\n",
       "      <th>RELAT_AB</th>\n",
       "      <th>PRAEGENDE_JUGENDJAHRE_DECADE</th>\n",
       "      <th>PRAEGENDE_JUGENDJAHRE_MOVEMENT</th>\n",
       "      <th>CAMEO_INTL_2015_WEALTH</th>\n",
       "      <th>CAMEO_INTL_2015_LIFESTAGE</th>\n",
       "    </tr>\n",
       "  </thead>\n",
       "  <tbody>\n",
       "  </tbody>\n",
       "</table>\n",
       "<p>0 rows × 68 columns</p>\n",
       "</div>"
      ],
      "text/plain": [
       "Empty DataFrame\n",
       "Columns: [ALTERSKATEGORIE_GROB, ANREDE_KZ, FINANZ_MINIMALIST, FINANZ_SPARER, FINANZ_VORSORGER, FINANZ_ANLEGER, FINANZ_UNAUFFAELLIGER, FINANZ_HAUSBAUER, GREEN_AVANTGARDE, HEALTH_TYP, LP_LEBENSPHASE_FEIN, LP_LEBENSPHASE_GROB, RETOURTYP_BK_S, SEMIO_SOZ, SEMIO_FAM, SEMIO_REL, SEMIO_MAT, SEMIO_VERT, SEMIO_LUST, SEMIO_ERL, SEMIO_KULT, SEMIO_RAT, SEMIO_KRIT, SEMIO_DOM, SEMIO_KAEM, SEMIO_PFLICHT, SEMIO_TRADV, SOHO_KZ, VERS_TYP, ANZ_PERSONEN, ANZ_TITEL, HH_EINKOMMEN_SCORE, W_KEIT_KIND_HH, WOHNDAUER_2008, ANZ_HAUSHALTE_AKTIV, ANZ_HH_TITEL, KONSUMNAEHE, MIN_GEBAEUDEJAHR, OST_WEST_KZ, WOHNLAGE, KBA05_ANTG1, KBA05_ANTG2, KBA05_ANTG3, KBA05_ANTG4, KBA05_GBZ, BALLRAUM, EWDICHTE, INNENSTADT, GEBAEUDETYP_RASTER, KKK, MOBI_REGIO, ONLINE_AFFINITAET, REGIOTYP, KBA13_ANZAHL_PKW, PLZ8_ANTG1, PLZ8_ANTG2, PLZ8_ANTG3, PLZ8_ANTG4, PLZ8_BAUMAX, PLZ8_HHZ, PLZ8_GBZ, ARBEIT, ORTSGR_KLS9, RELAT_AB, PRAEGENDE_JUGENDJAHRE_DECADE, PRAEGENDE_JUGENDJAHRE_MOVEMENT, CAMEO_INTL_2015_WEALTH, CAMEO_INTL_2015_LIFESTAGE]\n",
       "Index: []\n",
       "\n",
       "[0 rows x 68 columns]"
      ]
     },
     "execution_count": 93,
     "metadata": {},
     "output_type": "execute_result"
    }
   ],
   "source": [
    "# Number of customers in the outlier group\n",
    "outlier_customers"
   ]
  },
  {
   "cell_type": "code",
   "execution_count": 70,
   "metadata": {},
   "outputs": [
    {
     "data": {
      "text/plain": [
       "0.0"
      ]
     },
     "execution_count": 70,
     "metadata": {},
     "output_type": "execute_result"
    }
   ],
   "source": [
    "# Transform features - customer data (1)\n",
    "# - Impute nans\n",
    "customers = impute_nans(customers)\n",
    "# Check Nans replaced\n",
    "current_nans = customers.isnull().values.sum()\n",
    "(current_nans / total_cells) * 100"
   ]
  },
  {
   "cell_type": "code",
   "execution_count": 71,
   "metadata": {},
   "outputs": [
    {
     "data": {
      "text/plain": [
       "(141713, 68)"
      ]
     },
     "execution_count": 71,
     "metadata": {},
     "output_type": "execute_result"
    }
   ],
   "source": [
    "# Dimensions after cleaning\n",
    "customers.shape"
   ]
  },
  {
   "cell_type": "code",
   "execution_count": 72,
   "metadata": {},
   "outputs": [
    {
     "data": {
      "text/plain": [
       "(797961, 68)"
      ]
     },
     "execution_count": 72,
     "metadata": {},
     "output_type": "execute_result"
    }
   ],
   "source": [
    "# Check match of columns with original\n",
    "azdias.shape"
   ]
  },
  {
   "cell_type": "code",
   "execution_count": 73,
   "metadata": {},
   "outputs": [],
   "source": [
    "# Transform features - customer data (2)\n",
    "# - Scale features using existing general population scaler\n",
    "customers_np = scaler.transform(customers)\n",
    "# - Transform features to PCA components using general population PCA\n",
    "pca_components_customers = pca.transform(customers_np)\n",
    "# - Predict cluster labels for customer data using kmeans model from general population \n",
    "kmeans_clusters_customers = kmeans_model.predict(pca_components_customers)"
   ]
  },
  {
   "cell_type": "markdown",
   "metadata": {},
   "source": [
    "### Step 3.3: Compare Customer Data to Demographics Data\n",
    "\n",
    "At this point, I have clustered data based on demographics of the general population of Germany, and seen how the customer data for a mail-order sales company maps onto those demographic clusters. In this final substep, I will compare the two cluster distributions to see where the strongest customer base for the company is.\n",
    "\n",
    "Consider the proportion of persons in each cluster for the general population, and the proportions for the customers. If we think the company's customer base to be universal, then the cluster assignment proportions should be fairly similar between the two. If there are only particular segments of the population that are interested in the company's products, then we should see a mismatch from one to the other. If there is a higher proportion of persons in a cluster for the customer data compared to the general population (e.g. 5% of persons are assigned to a cluster for the general population, but 15% of the customer data is closest to that cluster's centroid) then that suggests the people in that cluster to be a target audience for the company. On the other hand, the proportion of the data in a cluster being larger in the general population than the customer data (e.g. only 2% of customers closest to a population centroid that captures 6% of the data) suggests that group of persons to be outside of the target demographics."
   ]
  },
  {
   "cell_type": "code",
   "execution_count": 91,
   "metadata": {},
   "outputs": [
    {
     "data": {
      "image/png": "[encoded data removed]",
      "text/plain": [
       "<matplotlib.figure.Figure at 0x7f1b1ef6de80>"
      ]
     },
     "metadata": {
      "needs_background": "light"
     },
     "output_type": "display_data"
    }
   ],
   "source": [
    "# Compare the proportion of data in each cluster for the customer data to the\n",
    "# proportion of data in each cluster for the general population.\n",
    "\n",
    "# Proportion of data per cluster - population data\n",
    "# Value counts (Add outlier rows extracted previously for excessive nans as additional 'cluster' 20 then normalise)\n",
    "azdias_count_per_cluster = pd.Series(kmeans_clusters_azdias).value_counts(sort=False)\n",
    "azdias_count_per_cluster[20] = outlier_rows_df.shape[0]\n",
    "azdias_count_per_cluster = azdias_count_per_cluster / azdias_count_per_cluster.sum()\n",
    "# Construct dataframe\n",
    "azdias_cpc_dictionary = {'proportion': azdias_count_per_cluster, 'data_source': 'general_population'}\n",
    "azdias_cpc_df = pd.DataFrame(azdias_cpc_dictionary)\n",
    "\n",
    "# Proportion of data per cluster - customer data\n",
    "# Value counts (Add outlier rows extracted previously for excessive nans as additional 'cluster' 20 then normalise)\n",
    "customer_count_per_cluster = pd.Series(kmeans_clusters_customers).value_counts(sort=False)\n",
    "customer_count_per_cluster[20] = outlier_customers.shape[0]\n",
    "customer_count_per_cluster = customer_count_per_cluster / customer_count_per_cluster.sum()\n",
    "# Construct dataframe\n",
    "customer_cpc_dictionary = {'proportion': customer_count_per_cluster, 'data_source': 'customers'}\n",
    "customer_cpc_df = pd.DataFrame(customer_cpc_dictionary)\n",
    "\n",
    "# Join proportions\n",
    "all_proportions_df = pd.concat([azdias_cpc_df, customer_cpc_df])\n",
    "\n",
    "# Plot histogram to compare cluster count distribution differeces between datasets\n",
    "fig, ax = plt.subplots(figsize=(18,10))\n",
    "sns.barplot(ax=ax, x=all_proportions_df.index, y = all_proportions_df.proportion, hue=all_proportions_df.data_source)\n",
    "ax.set_xlabel('Cluster')\n",
    "ax.set_ylabel('Proportion')\n",
    "ax.set_title('Proportion per cluster: General population v Customers');"
   ]
  },
  {
   "cell_type": "code",
   "execution_count": 92,
   "metadata": {},
   "outputs": [
    {
     "data": {
      "text/plain": [
       "0"
      ]
     },
     "execution_count": 92,
     "metadata": {},
     "output_type": "execute_result"
    }
   ],
   "source": [
    "outlier_customers.shape[0]"
   ]
  },
  {
   "cell_type": "code",
   "execution_count": 114,
   "metadata": {},
   "outputs": [
    {
     "name": "stdout",
     "output_type": "stream",
     "text": [
      "ALTERSKATEGORIE_GROB    1992.68\n",
      "ANREDE_KZ                695.55\n",
      "FINANZ_MINIMALIST         22.57\n",
      "FINANZ_SPARER              8.48\n",
      "FINANZ_VORSORGER           6.61\n",
      "dtype: float64\n"
     ]
    }
   ],
   "source": [
    "# What kinds of people are part of a cluster that is overrepresented in the\n",
    "# customer data compared to the general population?\n",
    "\n",
    "# Cluster 19 seems to be a good candidate, lets examine its top 5 features\n",
    "# Co-ordinates (vector) of center for cluster 19 in 65 dimensions of PCA component space\n",
    "cluster19 = kmeans_model.cluster_centers_[19]\n",
    "# Convert to series\n",
    "cluster19 = pd.Series(cluster19)\n",
    "# Transform cluster19 to co-ordinates (vector) in original 68 dimension feature space\n",
    "cluster19 = scaler.inverse_transform(pca.inverse_transform(cluster19))\n",
    "cluster19 = pd.Series(cluster19).round(2)\n",
    "cluster19 = cluster19.sort_values(ascending=False)\n",
    "cluster19.index = list(azdias.columns.values)\n",
    "# For this cluster, represented as a vector in the original 68 dimension feature space\n",
    "# Let's look at the 5 biggest component features by magnitude in this vector\n",
    "print(cluster19.head())"
   ]
  },
  {
   "cell_type": "markdown",
   "metadata": {},
   "source": [
    "So the 2 most significant features in this cluster/vector are:\n",
    "\n",
    "- ALTERSKATEGORIE_GROB: Estimated age based on given name analysis\n",
    "- ANREDE_KZ: Gender\n",
    "\n",
    "Let's compare the values for these between the two datasets:"
   ]
  },
  {
   "cell_type": "code",
   "execution_count": 128,
   "metadata": {},
   "outputs": [
    {
     "data": {
      "image/png": "[encoded data removed]",
      "text/plain": [
       "<matplotlib.figure.Figure at 0x7f1b0725fc88>"
      ]
     },
     "metadata": {
      "needs_background": "light"
     },
     "output_type": "display_data"
    }
   ],
   "source": [
    "def compare_feature_values(feature):\n",
    "\n",
    "    # Construct dataframe of feature value proportions for population data\n",
    "    azdias_feature_values = azdias[feature].value_counts()\n",
    "    azdias_feature_proportions =  azdias_feature_values / azdias_feature_values.sum()\n",
    "    azdias_feature_dictionary = {'proportion': azdias_feature_proportions, 'data_source': 'general_population'}\n",
    "    azdias_feature_df = pd.DataFrame(azdias_feature_dictionary)\n",
    "\n",
    "    # Construct dataframe of feature value proportions for customer data\n",
    "    customers_feature_values = customers[feature].value_counts()\n",
    "    customers_feature_proportions =  customers_feature_values / customers_feature_values.sum()\n",
    "    customers_feature_dictionary = {'proportion': customers_feature_proportions, 'data_source': 'customers'}\n",
    "    customers_feature_df = pd.DataFrame(customers_feature_dictionary)\n",
    "\n",
    "    # Join proportions\n",
    "    all_proportions_feature_df = pd.concat([azdias_feature_df, customers_feature_df])\n",
    "\n",
    "    # Plot histogram to compare cluster count distribution differeces between datasets\n",
    "    fig, ax = plt.subplots(figsize=(18,10))\n",
    "    sns.barplot(ax=ax, x=all_proportions_feature_df.index, y = all_proportions_feature_df.proportion, hue=all_proportions_feature_df.data_source)\n",
    "    ax.set_xlabel('Feature value')\n",
    "    ax.set_ylabel('Proportion')\n",
    "    ax.set_title('Feature values for ' + feature + ': General population v Customers');\n",
    "    \n",
    "compare_feature_values('ALTERSKATEGORIE_GROB')"
   ]
  },
  {
   "cell_type": "markdown",
   "metadata": {},
   "source": [
    "So it seems what differentiates customers from the general population for this feature ALTERSKATEGORIE_GROB is that the general population has more values of 1, 2 & 3 - and customer have more of a value of 4.\n",
    "\n",
    "Looking at the interpretation of the values for ALTERSKATEGORIE_GROB:\n",
    "\n",
    "- -1: unknown (missing)\n",
    "-  0: unknown (cannot be determined)\n",
    "-  1: < 30 years old\n",
    "-  2: 30 - 45 years old\n",
    "-  3: 46 - 60 years old\n",
    "-  4: > 60 years old\n",
    "-  9: uniformly distributed\n",
    "\n",
    "This seems to suggest that more of this companies customers are in the 60+ age bracket than is typical for the general population - therefore it might be good for the company to target people who are 60+ years in age.\n",
    "\n",
    "Let's now look at the gender feature ANREDE_KZ..."
   ]
  },
  {
   "cell_type": "code",
   "execution_count": 129,
   "metadata": {},
   "outputs": [
    {
     "data": {
      "image/png": "[encoded data removed]",
      "text/plain": [
       "<matplotlib.figure.Figure at 0x7f1b072f8c88>"
      ]
     },
     "metadata": {
      "needs_background": "light"
     },
     "output_type": "display_data"
    }
   ],
   "source": [
    "# Compare values for ANREDE_KZ\n",
    "compare_feature_values('ANREDE_KZ')"
   ]
  },
  {
   "cell_type": "markdown",
   "metadata": {},
   "source": [
    "So it seems what differentiates customers from the general population for this feature ANREDE_KZ is that the general population has more values of 2 - and customer have more of a value of 1.\n",
    "\n",
    "Looking at the interpretation of the values for ANREDE_KZ:\n",
    "\n",
    "- -1: unknown (missing)\n",
    "-  0: unknown (cannot be determined)\n",
    "-  1: male\n",
    "-  2: female\n",
    "\n",
    "This seems to suggest that more of this companies customers are male than is typical for the general population - therefore it might be good for the company to target more males than females."
   ]
  },
  {
   "cell_type": "code",
   "execution_count": 127,
   "metadata": {},
   "outputs": [
    {
     "name": "stdout",
     "output_type": "stream",
     "text": [
      "ALTERSKATEGORIE_GROB    1992.53\n",
      "ANREDE_KZ                498.16\n",
      "FINANZ_MINIMALIST         14.62\n",
      "FINANZ_SPARER              8.76\n",
      "FINANZ_VORSORGER           7.11\n",
      "dtype: float64\n"
     ]
    }
   ],
   "source": [
    "# What kinds of people are part of a cluster that is underrepresented in the\n",
    "# customer data compared to the general population?\n",
    "\n",
    "# Cluster 8 seems to be a good candidate, lets examine its top 5 features\n",
    "# Co-ordinates (vector) of center for cluster 8 in 65 dimensions of PCA component space\n",
    "cluster8 = kmeans_model.cluster_centers_[8]\n",
    "# Convert to series\n",
    "cluster8 = pd.Series(cluster8)\n",
    "# Transform cluster8 to co-ordinates (vector) in original 68 dimension feature space\n",
    "cluster8 = scaler.inverse_transform(pca.inverse_transform(cluster8))\n",
    "cluster8 = pd.Series(cluster8).round(2)\n",
    "cluster8 = cluster8.sort_values(ascending=False)\n",
    "cluster8.index = list(azdias.columns.values)\n",
    "# For this cluster, represented as a vector in the original 68 dimension feature space\n",
    "# Let's look at the 5 biggest component features by magnitude in this vector\n",
    "print(cluster8.head())"
   ]
  },
  {
   "cell_type": "markdown",
   "metadata": {},
   "source": [
    "So the it seems again 2 most significant features in this cluster/vector are:\n",
    "\n",
    "- ALTERSKATEGORIE_GROB: Estimated age based on given name analysis\n",
    "- ANREDE_KZ: Gender\n",
    "\n",
    "But we have already examined these. Let us then look at the differences between the next two most significant features:\n",
    "    \n",
    "- FINANZ_MINIMALIST: Financial typology, for each dimension\n",
    "- FINANZ_SPARER: Financial typology, for each dimension"
   ]
  },
  {
   "cell_type": "code",
   "execution_count": 130,
   "metadata": {},
   "outputs": [
    {
     "data": {
      "image/png": "[encoded data removed]",
      "text/plain": [
       "<matplotlib.figure.Figure at 0x7f1b1f4d1c50>"
      ]
     },
     "metadata": {
      "needs_background": "light"
     },
     "output_type": "display_data"
    }
   ],
   "source": [
    "# Compare values for FINANZ_MINIMALIST\n",
    "compare_feature_values('FINANZ_MINIMALIST')"
   ]
  },
  {
   "cell_type": "markdown",
   "metadata": {},
   "source": [
    "So it seems what differentiates customers from the general population for this feature FINANZ_MINIMALIST is that the general population has more values of 1-3 - and customer have more of a value of 5.\n",
    "\n",
    "Looking at the interpretation of the values for FINANZ_MINIMALIST:\n",
    "\n",
    "Financial typology, for each dimension:\n",
    "- -1: unknown\n",
    "-  1: very high\n",
    "-  2: high\n",
    "-  3: average\n",
    "-  4: low\n",
    "-  5: very low\n",
    "\n",
    "And code:\n",
    "- MINIMALIST: low financial interest\n",
    "- SPARER: money-saver\n",
    "- VORSORGER: be prepared\n",
    "- ANLEGER: investor\n",
    "- UNAUFFAELLIGER: inconspicuous\n",
    "- HAUSBAUER: home ownership\n",
    "\n",
    "This seems to suggest that those with very high to average of type 'low financial interest' are under-represented in the customers of the company.\n",
    "\n",
    "Let us now look at FINANZ_SPARER..."
   ]
  },
  {
   "cell_type": "code",
   "execution_count": 131,
   "metadata": {},
   "outputs": [
    {
     "data": {
      "image/png": "[encoded data removed]",
      "text/plain": [
       "<matplotlib.figure.Figure at 0x7f1b073cc240>"
      ]
     },
     "metadata": {
      "needs_background": "light"
     },
     "output_type": "display_data"
    }
   ],
   "source": [
    "# Compare values for FINANZ_SPARER\n",
    "compare_feature_values('FINANZ_SPARER')"
   ]
  },
  {
   "cell_type": "markdown",
   "metadata": {},
   "source": [
    "So it seems what differentiates customers from the general population for this feature FINANZ_SPARER is that the general population has more values of 2-5 - and customer have more of a value of 1.\n",
    "\n",
    "Looking at the interpretation of the values for FINANZ_SPARER:\n",
    "\n",
    "Financial typology, for each dimension:\n",
    "- -1: unknown\n",
    "- 1: very high\n",
    "- 2: high\n",
    "- 3: average\n",
    "- 4: low\n",
    "- 5: very low\n",
    "\n",
    "And code:\n",
    "\n",
    "- MINIMALIST: low financial interest\n",
    "- SPARER: money-saver\n",
    "- VORSORGER: be prepared\n",
    "- ANLEGER: investor\n",
    "- UNAUFFAELLIGER: inconspicuous\n",
    "- HAUSBAUER: home ownership\n",
    "\n",
    "This seems to suggest that those with high to low of type 'money-saver' are under-represented in the customers of the company."
   ]
  },
  {
   "cell_type": "markdown",
   "metadata": {},
   "source": [
    "## Conclusion: Comparing Customer Data to Demographics Data\n",
    "\n",
    "So from the clustering analysis I looked to two clusters (19 & 8) that were over-represented & under-represented in the customer data (respectively).\n",
    "\n",
    "From my analysis of the underlying features of these clusters, I found evidence to suggest the following:\n",
    "\n",
    "**Segments of German population that were more popular with the mail order company**\n",
    "\n",
    "- People older that 60 years old\n",
    "- Men\n",
    "- Those with very low 'low financial interest' Financial typology\n",
    "- Those with very high 'money-saver' Financial typology\n",
    "\n",
    "**Segments of German population that were less popular with the mail order company**\n",
    "\n",
    "- People under 60 years old (especially under 45)\n",
    "- Women\n",
    "- Those with very high to average 'low financial interest' Financial typology\n",
    "- Those with high to low 'money-saver' Financial typology"
   ]
  }
 ],
 "metadata": {
  "kernelspec": {
   "display_name": "Python 3",
   "language": "python",
   "name": "python3"
  },
  "language_info": {
   "codemirror_mode": {
    "name": "ipython",
    "version": 3
   },
   "file_extension": ".py",
   "mimetype": "text/x-python",
   "name": "python",
   "nbconvert_exporter": "python",
   "pygments_lexer": "ipython3",
   "version": "3.6.6"
  }
 },
 "nbformat": 4,
 "nbformat_minor": 2
}
